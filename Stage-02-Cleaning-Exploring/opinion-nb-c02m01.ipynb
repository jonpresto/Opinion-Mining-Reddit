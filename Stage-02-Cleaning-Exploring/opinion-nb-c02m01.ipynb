{
 "cells": [
  {
   "cell_type": "markdown",
   "id": "573af3ce",
   "metadata": {},
   "source": [
    "# Stage 2:  Initial Exploratory Data Analysis"
   ]
  },
  {
   "cell_type": "code",
   "execution_count": 1,
   "id": "f60b6945",
   "metadata": {},
   "outputs": [],
   "source": [
    "import praw\n",
    "import pymongo\n",
    "from pymongo import MongoClient\n",
    "import json\n",
    "import pandas as pd\n",
    "pd.set_option('display.max_colwidth', None)\n",
    "import datetime\n",
    "import pprint\n",
    "from bson import ObjectId\n",
    "\n",
    "\n",
    "import seaborn as sns\n",
    "from sklearn.feature_extraction.text import CountVectorizer\n",
    "import matplotlib.pyplot as plt\n",
    "import numpy as np"
   ]
  },
  {
   "cell_type": "code",
   "execution_count": 2,
   "id": "9f2227d8",
   "metadata": {},
   "outputs": [],
   "source": [
    "# Read the raw data file\n",
    "df = pd.read_csv('https://raw.githubusercontent.com/jonpresto/Opinion-Mining-Reddit/main/Stage-02-Cleaning-Exporing/dataset/2019_may2021_historical_detailed.csv')"
   ]
  },
  {
   "cell_type": "code",
   "execution_count": 3,
   "id": "05bc9ff1",
   "metadata": {},
   "outputs": [
    {
     "data": {
      "text/plain": [
       "(6618, 8)"
      ]
     },
     "execution_count": 3,
     "metadata": {},
     "output_type": "execute_result"
    }
   ],
   "source": [
    "# check and remove missing data and duplicate rows\n",
    "df.shape"
   ]
  },
  {
   "cell_type": "code",
   "execution_count": 4,
   "id": "5be44225",
   "metadata": {},
   "outputs": [
    {
     "data": {
      "text/plain": [
       "submission_id                 object\n",
       "submission_score               int64\n",
       "submission_title              object\n",
       "submission_link_flair_text    object\n",
       "submission_selftext           object\n",
       "reply_author                  object\n",
       "reply_body                    object\n",
       "reply_created_utc              int64\n",
       "dtype: object"
      ]
     },
     "execution_count": 4,
     "metadata": {},
     "output_type": "execute_result"
    }
   ],
   "source": [
    "# check datatype of each column\n",
    "df.dtypes"
   ]
  },
  {
   "cell_type": "code",
   "execution_count": 5,
   "id": "3d884ff1",
   "metadata": {},
   "outputs": [
    {
     "data": {
      "text/plain": [
       "submission_id                    0\n",
       "submission_score                 0\n",
       "submission_title                 0\n",
       "submission_link_flair_text    4298\n",
       "submission_selftext           2334\n",
       "reply_author                     0\n",
       "reply_body                       0\n",
       "reply_created_utc                0\n",
       "dtype: int64"
      ]
     },
     "execution_count": 5,
     "metadata": {},
     "output_type": "execute_result"
    }
   ],
   "source": [
    "# check for nulls\n",
    "df.isnull().sum()"
   ]
  },
  {
   "cell_type": "code",
   "execution_count": 6,
   "id": "1942539a",
   "metadata": {},
   "outputs": [
    {
     "data": {
      "text/plain": [
       "(6618, 8)"
      ]
     },
     "execution_count": 6,
     "metadata": {},
     "output_type": "execute_result"
    }
   ],
   "source": [
    "# drop null values if all columns are nulls\n",
    "df.dropna(inplace=True,how='all')\n",
    "df.shape"
   ]
  },
  {
   "cell_type": "code",
   "execution_count": 7,
   "id": "38b08f65",
   "metadata": {},
   "outputs": [
    {
     "data": {
      "text/plain": [
       "submission_id                  639\n",
       "submission_score                28\n",
       "submission_title               622\n",
       "submission_link_flair_text       7\n",
       "submission_selftext            416\n",
       "reply_author                  4107\n",
       "reply_body                    6010\n",
       "reply_created_utc             3390\n",
       "dtype: int64"
      ]
     },
     "execution_count": 7,
     "metadata": {},
     "output_type": "execute_result"
    }
   ],
   "source": [
    "# check for unique values\n",
    "df.nunique()"
   ]
  },
  {
   "cell_type": "code",
   "execution_count": 8,
   "id": "f89564a9",
   "metadata": {},
   "outputs": [
    {
     "data": {
      "text/plain": [
       "[removed]                                                                164\n",
       "[deleted]                                                                131\n",
       "Thank you!                                                                26\n",
       "Done, please upvote my Pinned Post! Oh please! join r/banglaAudiobook     12\n",
       "Thanks                                                                    10\n",
       "yes                                                                        8\n",
       "Thanks!                                                                    8\n",
       "Nice                                                                       8\n",
       "Yeah, I’m bored every time they are on screen now.                         6\n",
       "Mommy!!! 🤤                                                                 6\n",
       "Name: reply_body, dtype: int64"
      ]
     },
     "execution_count": 8,
     "metadata": {},
     "output_type": "execute_result"
    }
   ],
   "source": [
    "# what are the duplicates?\n",
    "replies_counts = df.reply_body.value_counts()\n",
    "replies_counts[replies_counts>=2][:10]\n"
   ]
  },
  {
   "cell_type": "code",
   "execution_count": 9,
   "id": "dbe3cf2a",
   "metadata": {},
   "outputs": [],
   "source": [
    "# we do not want deleted or removed posts\n",
    "status_deleted = \"[deleted]\"\n",
    "status_removed = \"[removed]\"\n",
    "\n",
    "# we don't want deleted post anyway - delete all of them with the [deleted] or [removed]\n",
    "df.drop(index = df[df['reply_body']==status_deleted].index, inplace=True)\n",
    "df.drop(index = df[df['reply_body']==status_removed].index, inplace=True)"
   ]
  },
  {
   "cell_type": "code",
   "execution_count": 10,
   "id": "508f0382",
   "metadata": {},
   "outputs": [
    {
     "data": {
      "text/plain": [
       "(6323, 8)"
      ]
     },
     "execution_count": 10,
     "metadata": {},
     "output_type": "execute_result"
    }
   ],
   "source": [
    "df.shape"
   ]
  },
  {
   "cell_type": "code",
   "execution_count": 11,
   "id": "f45ebb2f",
   "metadata": {},
   "outputs": [],
   "source": [
    "#df_backup = df.copy()\n",
    "# df = df_backup.copy()"
   ]
  },
  {
   "cell_type": "code",
   "execution_count": 12,
   "id": "f3631fcb",
   "metadata": {},
   "outputs": [],
   "source": [
    "# drop duplicates of the same author, same reply text within the same submission\n",
    "# but keep first and only for reply\n",
    "df.drop_duplicates(subset=['submission_id','reply_author','reply_created_utc','reply_body'],\n",
    "                   keep='first', inplace=True)\n"
   ]
  },
  {
   "cell_type": "code",
   "execution_count": 13,
   "id": "14751783",
   "metadata": {},
   "outputs": [
    {
     "data": {
      "text/plain": [
       "submission_id                  639\n",
       "submission_score                28\n",
       "submission_title               622\n",
       "submission_link_flair_text       7\n",
       "submission_selftext            416\n",
       "reply_author                  4107\n",
       "reply_body                    6008\n",
       "reply_created_utc             3351\n",
       "dtype: int64"
      ]
     },
     "execution_count": 13,
     "metadata": {},
     "output_type": "execute_result"
    }
   ],
   "source": [
    "# check count of unique values again\n",
    "df.nunique()"
   ]
  },
  {
   "cell_type": "markdown",
   "id": "2584f45c",
   "metadata": {},
   "source": [
    "Now that we've cleaned the data by removing null values and duplicates, we can start looking at some simple statistics.  Specifically, we can understand what are the most popular threads based on number of replies, or number of word counts in replies, number of upvotes.  \n",
    "\n",
    "We can also start getting some basic context about what people are discussing in these threads."
   ]
  },
  {
   "cell_type": "code",
   "execution_count": 14,
   "id": "40382fc7",
   "metadata": {},
   "outputs": [],
   "source": [
    "# let's strip extra white space first and save to new column\n",
    "df['reply'] = df['reply_body'].str.strip()"
   ]
  },
  {
   "cell_type": "code",
   "execution_count": 15,
   "id": "b6e559c4",
   "metadata": {},
   "outputs": [],
   "source": [
    "# Introduce new column to estimate count of words to support answering questions above\n",
    "df['reply_char_counts'] = df['reply'].str.len()"
   ]
  },
  {
   "cell_type": "code",
   "execution_count": 16,
   "id": "37d4be3a",
   "metadata": {},
   "outputs": [
    {
     "data": {
      "text/html": [
       "<div>\n",
       "<style scoped>\n",
       "    .dataframe tbody tr th:only-of-type {\n",
       "        vertical-align: middle;\n",
       "    }\n",
       "\n",
       "    .dataframe tbody tr th {\n",
       "        vertical-align: top;\n",
       "    }\n",
       "\n",
       "    .dataframe thead th {\n",
       "        text-align: right;\n",
       "    }\n",
       "</style>\n",
       "<table border=\"1\" class=\"dataframe\">\n",
       "  <thead>\n",
       "    <tr style=\"text-align: right;\">\n",
       "      <th></th>\n",
       "      <th>submission_id</th>\n",
       "      <th>submission_score</th>\n",
       "      <th>submission_title</th>\n",
       "      <th>submission_link_flair_text</th>\n",
       "      <th>submission_selftext</th>\n",
       "      <th>reply_author</th>\n",
       "      <th>reply_body</th>\n",
       "      <th>reply_created_utc</th>\n",
       "      <th>reply</th>\n",
       "      <th>reply_char_counts</th>\n",
       "    </tr>\n",
       "  </thead>\n",
       "  <tbody>\n",
       "    <tr>\n",
       "      <th>0</th>\n",
       "      <td>aglcrj</td>\n",
       "      <td>1</td>\n",
       "      <td>Goodnotes 4 vs. Goodnotes 5 right now</td>\n",
       "      <td>NaN</td>\n",
       "      <td>I have used Goodnotes 4 for work a ton.  And I do mean a ton.  I bought and downloaded 5 yesterday, transfer was easy.  I realized I can't use the Mac App with 5.  Right?  Changes I made in 5 aren't synced to the desktop app.  Also I kept getting a syncing error in 5.  What was it syncing with?  I am going to continue to play with it but I am not sure I feel comfortable diving in yet.</td>\n",
       "      <td>Mauri97</td>\n",
       "      <td>I'm getting a ton of bugs with 5 as well (snappy lines, no response at times) and for some reason the ability to sync to google drive and to download multiple files at once from google drive is gone.\\n\\n I think they need some time to cope with the new launch.</td>\n",
       "      <td>1547656134</td>\n",
       "      <td>I'm getting a ton of bugs with 5 as well (snappy lines, no response at times) and for some reason the ability to sync to google drive and to download multiple files at once from google drive is gone.\\n\\n I think they need some time to cope with the new launch.</td>\n",
       "      <td>258</td>\n",
       "    </tr>\n",
       "    <tr>\n",
       "      <th>1</th>\n",
       "      <td>aglcrj</td>\n",
       "      <td>1</td>\n",
       "      <td>Goodnotes 4 vs. Goodnotes 5 right now</td>\n",
       "      <td>NaN</td>\n",
       "      <td>I have used Goodnotes 4 for work a ton.  And I do mean a ton.  I bought and downloaded 5 yesterday, transfer was easy.  I realized I can't use the Mac App with 5.  Right?  Changes I made in 5 aren't synced to the desktop app.  Also I kept getting a syncing error in 5.  What was it syncing with?  I am going to continue to play with it but I am not sure I feel comfortable diving in yet.</td>\n",
       "      <td>nathanwj</td>\n",
       "      <td>Goodnotes 5 is not yet compatible with the desktop app as it says in the release notes. There will be more features added in the near future.</td>\n",
       "      <td>1547658625</td>\n",
       "      <td>Goodnotes 5 is not yet compatible with the desktop app as it says in the release notes. There will be more features added in the near future.</td>\n",
       "      <td>141</td>\n",
       "    </tr>\n",
       "    <tr>\n",
       "      <th>2</th>\n",
       "      <td>aglcrj</td>\n",
       "      <td>1</td>\n",
       "      <td>Goodnotes 4 vs. Goodnotes 5 right now</td>\n",
       "      <td>NaN</td>\n",
       "      <td>I have used Goodnotes 4 for work a ton.  And I do mean a ton.  I bought and downloaded 5 yesterday, transfer was easy.  I realized I can't use the Mac App with 5.  Right?  Changes I made in 5 aren't synced to the desktop app.  Also I kept getting a syncing error in 5.  What was it syncing with?  I am going to continue to play with it but I am not sure I feel comfortable diving in yet.</td>\n",
       "      <td>Rowyfo</td>\n",
       "      <td>I haven't downloaded GN5 yet but watched a walkthrough and I did see that there's a snap option to check and uncheck, I think somewhere in pen options. Hope that helps!</td>\n",
       "      <td>1547662874</td>\n",
       "      <td>I haven't downloaded GN5 yet but watched a walkthrough and I did see that there's a snap option to check and uncheck, I think somewhere in pen options. Hope that helps!</td>\n",
       "      <td>168</td>\n",
       "    </tr>\n",
       "  </tbody>\n",
       "</table>\n",
       "</div>"
      ],
      "text/plain": [
       "  submission_id  submission_score                       submission_title  \\\n",
       "0        aglcrj                 1  Goodnotes 4 vs. Goodnotes 5 right now   \n",
       "1        aglcrj                 1  Goodnotes 4 vs. Goodnotes 5 right now   \n",
       "2        aglcrj                 1  Goodnotes 4 vs. Goodnotes 5 right now   \n",
       "\n",
       "  submission_link_flair_text  \\\n",
       "0                        NaN   \n",
       "1                        NaN   \n",
       "2                        NaN   \n",
       "\n",
       "                                                                                                                                                                                                                                                                                                                                                                                   submission_selftext  \\\n",
       "0  I have used Goodnotes 4 for work a ton.  And I do mean a ton.  I bought and downloaded 5 yesterday, transfer was easy.  I realized I can't use the Mac App with 5.  Right?  Changes I made in 5 aren't synced to the desktop app.  Also I kept getting a syncing error in 5.  What was it syncing with?  I am going to continue to play with it but I am not sure I feel comfortable diving in yet.   \n",
       "1  I have used Goodnotes 4 for work a ton.  And I do mean a ton.  I bought and downloaded 5 yesterday, transfer was easy.  I realized I can't use the Mac App with 5.  Right?  Changes I made in 5 aren't synced to the desktop app.  Also I kept getting a syncing error in 5.  What was it syncing with?  I am going to continue to play with it but I am not sure I feel comfortable diving in yet.   \n",
       "2  I have used Goodnotes 4 for work a ton.  And I do mean a ton.  I bought and downloaded 5 yesterday, transfer was easy.  I realized I can't use the Mac App with 5.  Right?  Changes I made in 5 aren't synced to the desktop app.  Also I kept getting a syncing error in 5.  What was it syncing with?  I am going to continue to play with it but I am not sure I feel comfortable diving in yet.   \n",
       "\n",
       "  reply_author  \\\n",
       "0      Mauri97   \n",
       "1     nathanwj   \n",
       "2       Rowyfo   \n",
       "\n",
       "                                                                                                                                                                                                                                                             reply_body  \\\n",
       "0  I'm getting a ton of bugs with 5 as well (snappy lines, no response at times) and for some reason the ability to sync to google drive and to download multiple files at once from google drive is gone.\\n\\n I think they need some time to cope with the new launch.   \n",
       "1                                                                                                                        Goodnotes 5 is not yet compatible with the desktop app as it says in the release notes. There will be more features added in the near future.    \n",
       "2                                                                                              I haven't downloaded GN5 yet but watched a walkthrough and I did see that there's a snap option to check and uncheck, I think somewhere in pen options. Hope that helps!   \n",
       "\n",
       "   reply_created_utc  \\\n",
       "0         1547656134   \n",
       "1         1547658625   \n",
       "2         1547662874   \n",
       "\n",
       "                                                                                                                                                                                                                                                                  reply  \\\n",
       "0  I'm getting a ton of bugs with 5 as well (snappy lines, no response at times) and for some reason the ability to sync to google drive and to download multiple files at once from google drive is gone.\\n\\n I think they need some time to cope with the new launch.   \n",
       "1                                                                                                                         Goodnotes 5 is not yet compatible with the desktop app as it says in the release notes. There will be more features added in the near future.   \n",
       "2                                                                                              I haven't downloaded GN5 yet but watched a walkthrough and I did see that there's a snap option to check and uncheck, I think somewhere in pen options. Hope that helps!   \n",
       "\n",
       "   reply_char_counts  \n",
       "0                258  \n",
       "1                141  \n",
       "2                168  "
      ]
     },
     "execution_count": 16,
     "metadata": {},
     "output_type": "execute_result"
    }
   ],
   "source": [
    "df.head(3)"
   ]
  },
  {
   "cell_type": "code",
   "execution_count": 17,
   "id": "a91a5a61",
   "metadata": {},
   "outputs": [
    {
     "data": {
      "text/html": [
       "<div>\n",
       "<style scoped>\n",
       "    .dataframe tbody tr th:only-of-type {\n",
       "        vertical-align: middle;\n",
       "    }\n",
       "\n",
       "    .dataframe tbody tr th {\n",
       "        vertical-align: top;\n",
       "    }\n",
       "\n",
       "    .dataframe thead th {\n",
       "        text-align: right;\n",
       "    }\n",
       "</style>\n",
       "<table border=\"1\" class=\"dataframe\">\n",
       "  <thead>\n",
       "    <tr style=\"text-align: right;\">\n",
       "      <th></th>\n",
       "      <th>submission_id</th>\n",
       "      <th>submission_score</th>\n",
       "      <th>submission_title</th>\n",
       "      <th>submission_link_flair_text</th>\n",
       "      <th>submission_selftext</th>\n",
       "      <th>reply_author</th>\n",
       "      <th>reply_body</th>\n",
       "      <th>reply_created_utc</th>\n",
       "      <th>reply</th>\n",
       "      <th>reply_char_counts</th>\n",
       "    </tr>\n",
       "  </thead>\n",
       "  <tbody>\n",
       "    <tr>\n",
       "      <th>131</th>\n",
       "      <td>alkvoc</td>\n",
       "      <td>1</td>\n",
       "      <td>I've been thinking to stick with GN 4 until GN 5 is ready to go.</td>\n",
       "      <td>NaN</td>\n",
       "      <td>I have literally hundred of thousands of pages written using GN 4. I downloaded GN 5 thinking that it'll be a upgrade, but it isn't.\\n\\nThey didn't even put the same colors that existed in GN4 to write... they messed around with my kind of summary with that \"favorites\"...\\n\\nI'm using an Ipad Air 2 and with GN 5 it overheats very quick...\\n\\nIt's good that I can import my things to GN 5... so I've been thinking to stick with GN 4 until GN 5 is ready to go.</td>\n",
       "      <td>Quirky_Coffee</td>\n",
       "      <td>Yeah I do</td>\n",
       "      <td>1548922718</td>\n",
       "      <td>Yeah I do</td>\n",
       "      <td>9</td>\n",
       "    </tr>\n",
       "    <tr>\n",
       "      <th>132</th>\n",
       "      <td>alkvoc</td>\n",
       "      <td>1</td>\n",
       "      <td>I've been thinking to stick with GN 4 until GN 5 is ready to go.</td>\n",
       "      <td>NaN</td>\n",
       "      <td>I have literally hundred of thousands of pages written using GN 4. I downloaded GN 5 thinking that it'll be a upgrade, but it isn't.\\n\\nThey didn't even put the same colors that existed in GN4 to write... they messed around with my kind of summary with that \"favorites\"...\\n\\nI'm using an Ipad Air 2 and with GN 5 it overheats very quick...\\n\\nIt's good that I can import my things to GN 5... so I've been thinking to stick with GN 4 until GN 5 is ready to go.</td>\n",
       "      <td>Cucobr</td>\n",
       "      <td>for sure.</td>\n",
       "      <td>1548931219</td>\n",
       "      <td>for sure.</td>\n",
       "      <td>9</td>\n",
       "    </tr>\n",
       "    <tr>\n",
       "      <th>150</th>\n",
       "      <td>aqzvf0</td>\n",
       "      <td>1</td>\n",
       "      <td>Cloud notes</td>\n",
       "      <td>NaN</td>\n",
       "      <td>Hi! If I sinc my notes in Goodnotes (apple ipad) with google drive, it means that I can read my notes as pdf on my phone and pc? Or is it just a backup of my notes that I can’t use?</td>\n",
       "      <td>pittu2752</td>\n",
       "      <td>Okok</td>\n",
       "      <td>1550317018</td>\n",
       "      <td>Okok</td>\n",
       "      <td>4</td>\n",
       "    </tr>\n",
       "    <tr>\n",
       "      <th>151</th>\n",
       "      <td>aqzvf0</td>\n",
       "      <td>1</td>\n",
       "      <td>Cloud notes</td>\n",
       "      <td>NaN</td>\n",
       "      <td>Hi! If I sinc my notes in Goodnotes (apple ipad) with google drive, it means that I can read my notes as pdf on my phone and pc? Or is it just a backup of my notes that I can’t use?</td>\n",
       "      <td>pittu2752</td>\n",
       "      <td>Thanks</td>\n",
       "      <td>1550317067</td>\n",
       "      <td>Thanks</td>\n",
       "      <td>6</td>\n",
       "    </tr>\n",
       "    <tr>\n",
       "      <th>155</th>\n",
       "      <td>asuisg</td>\n",
       "      <td>3</td>\n",
       "      <td>Support requests do not work on safari</td>\n",
       "      <td>NaN</td>\n",
       "      <td>Thought I would call out again for support for naming bookmarks on version 5 given that we have had 28 days and 8 released since we were told that the team are working on it - they have done an excellent job adding search across notebooks, so not complaining. However, cannot submit to support page because the ‘bot filter’ is not displayed on safari on iPad....</td>\n",
       "      <td>universal_hype80085</td>\n",
       "      <td>nice list</td>\n",
       "      <td>1622867861</td>\n",
       "      <td>nice list</td>\n",
       "      <td>9</td>\n",
       "    </tr>\n",
       "  </tbody>\n",
       "</table>\n",
       "</div>"
      ],
      "text/plain": [
       "    submission_id  submission_score  \\\n",
       "131        alkvoc                 1   \n",
       "132        alkvoc                 1   \n",
       "150        aqzvf0                 1   \n",
       "151        aqzvf0                 1   \n",
       "155        asuisg                 3   \n",
       "\n",
       "                                                     submission_title  \\\n",
       "131  I've been thinking to stick with GN 4 until GN 5 is ready to go.   \n",
       "132  I've been thinking to stick with GN 4 until GN 5 is ready to go.   \n",
       "150                                                       Cloud notes   \n",
       "151                                                       Cloud notes   \n",
       "155                            Support requests do not work on safari   \n",
       "\n",
       "    submission_link_flair_text  \\\n",
       "131                        NaN   \n",
       "132                        NaN   \n",
       "150                        NaN   \n",
       "151                        NaN   \n",
       "155                        NaN   \n",
       "\n",
       "                                                                                                                                                                                                                                                                                                                                                                                                                                                              submission_selftext  \\\n",
       "131  I have literally hundred of thousands of pages written using GN 4. I downloaded GN 5 thinking that it'll be a upgrade, but it isn't.\\n\\nThey didn't even put the same colors that existed in GN4 to write... they messed around with my kind of summary with that \"favorites\"...\\n\\nI'm using an Ipad Air 2 and with GN 5 it overheats very quick...\\n\\nIt's good that I can import my things to GN 5... so I've been thinking to stick with GN 4 until GN 5 is ready to go.   \n",
       "132  I have literally hundred of thousands of pages written using GN 4. I downloaded GN 5 thinking that it'll be a upgrade, but it isn't.\\n\\nThey didn't even put the same colors that existed in GN4 to write... they messed around with my kind of summary with that \"favorites\"...\\n\\nI'm using an Ipad Air 2 and with GN 5 it overheats very quick...\\n\\nIt's good that I can import my things to GN 5... so I've been thinking to stick with GN 4 until GN 5 is ready to go.   \n",
       "150                                                                                                                                                                                                                                                                                         Hi! If I sinc my notes in Goodnotes (apple ipad) with google drive, it means that I can read my notes as pdf on my phone and pc? Or is it just a backup of my notes that I can’t use?   \n",
       "151                                                                                                                                                                                                                                                                                         Hi! If I sinc my notes in Goodnotes (apple ipad) with google drive, it means that I can read my notes as pdf on my phone and pc? Or is it just a backup of my notes that I can’t use?   \n",
       "155                                                                                                    Thought I would call out again for support for naming bookmarks on version 5 given that we have had 28 days and 8 released since we were told that the team are working on it - they have done an excellent job adding search across notebooks, so not complaining. However, cannot submit to support page because the ‘bot filter’ is not displayed on safari on iPad....   \n",
       "\n",
       "            reply_author reply_body  reply_created_utc      reply  \\\n",
       "131        Quirky_Coffee  Yeah I do         1548922718  Yeah I do   \n",
       "132               Cucobr  for sure.         1548931219  for sure.   \n",
       "150            pittu2752       Okok         1550317018       Okok   \n",
       "151            pittu2752     Thanks         1550317067     Thanks   \n",
       "155  universal_hype80085  nice list         1622867861  nice list   \n",
       "\n",
       "     reply_char_counts  \n",
       "131                  9  \n",
       "132                  9  \n",
       "150                  4  \n",
       "151                  6  \n",
       "155                  9  "
      ]
     },
     "execution_count": 17,
     "metadata": {},
     "output_type": "execute_result"
    }
   ],
   "source": [
    "# check some results\n",
    "df[df['reply_char_counts'] < 10].head()"
   ]
  },
  {
   "cell_type": "code",
   "execution_count": 18,
   "id": "0e5f4f56",
   "metadata": {},
   "outputs": [],
   "source": [
    "df['reply_word_counts_by_space'] = df['reply'].str.split().str.len()"
   ]
  },
  {
   "cell_type": "code",
   "execution_count": 19,
   "id": "2675e554",
   "metadata": {},
   "outputs": [
    {
     "data": {
      "text/html": [
       "<div>\n",
       "<style scoped>\n",
       "    .dataframe tbody tr th:only-of-type {\n",
       "        vertical-align: middle;\n",
       "    }\n",
       "\n",
       "    .dataframe tbody tr th {\n",
       "        vertical-align: top;\n",
       "    }\n",
       "\n",
       "    .dataframe thead th {\n",
       "        text-align: right;\n",
       "    }\n",
       "</style>\n",
       "<table border=\"1\" class=\"dataframe\">\n",
       "  <thead>\n",
       "    <tr style=\"text-align: right;\">\n",
       "      <th></th>\n",
       "      <th>submission_id</th>\n",
       "      <th>submission_score</th>\n",
       "      <th>submission_title</th>\n",
       "      <th>submission_link_flair_text</th>\n",
       "      <th>submission_selftext</th>\n",
       "      <th>reply_author</th>\n",
       "      <th>reply_body</th>\n",
       "      <th>reply_created_utc</th>\n",
       "      <th>reply</th>\n",
       "      <th>reply_char_counts</th>\n",
       "      <th>reply_word_counts_by_space</th>\n",
       "    </tr>\n",
       "  </thead>\n",
       "  <tbody>\n",
       "    <tr>\n",
       "      <th>6613</th>\n",
       "      <td>nob4jo</td>\n",
       "      <td>1</td>\n",
       "      <td>Pasting text from outside Goodnotes</td>\n",
       "      <td>NaN</td>\n",
       "      <td>I’m curious to know would it be possible to select text from outside Goodnotes to then paste into a Goodnotes document directly? For example copying and pasting long alphanumeric passcodes from Lastpass into Goodnotes directly?</td>\n",
       "      <td>reddit_lss_43</td>\n",
       "      <td>Testing-MessageTwo-30987</td>\n",
       "      <td>1622871499</td>\n",
       "      <td>Testing-MessageTwo-30987</td>\n",
       "      <td>24</td>\n",
       "      <td>1</td>\n",
       "    </tr>\n",
       "    <tr>\n",
       "      <th>6616</th>\n",
       "      <td>nob4jo</td>\n",
       "      <td>1</td>\n",
       "      <td>Pasting text from outside Goodnotes</td>\n",
       "      <td>NaN</td>\n",
       "      <td>I’m curious to know would it be possible to select text from outside Goodnotes to then paste into a Goodnotes document directly? For example copying and pasting long alphanumeric passcodes from Lastpass into Goodnotes directly?</td>\n",
       "      <td>bluevinylmoon7</td>\n",
       "      <td>thanks!</td>\n",
       "      <td>1622871499</td>\n",
       "      <td>thanks!</td>\n",
       "      <td>7</td>\n",
       "      <td>1</td>\n",
       "    </tr>\n",
       "  </tbody>\n",
       "</table>\n",
       "</div>"
      ],
      "text/plain": [
       "     submission_id  submission_score                     submission_title  \\\n",
       "6613        nob4jo                 1  Pasting text from outside Goodnotes   \n",
       "6616        nob4jo                 1  Pasting text from outside Goodnotes   \n",
       "\n",
       "     submission_link_flair_text  \\\n",
       "6613                        NaN   \n",
       "6616                        NaN   \n",
       "\n",
       "                                                                                                                                                                                                                      submission_selftext  \\\n",
       "6613  I’m curious to know would it be possible to select text from outside Goodnotes to then paste into a Goodnotes document directly? For example copying and pasting long alphanumeric passcodes from Lastpass into Goodnotes directly?   \n",
       "6616  I’m curious to know would it be possible to select text from outside Goodnotes to then paste into a Goodnotes document directly? For example copying and pasting long alphanumeric passcodes from Lastpass into Goodnotes directly?   \n",
       "\n",
       "        reply_author                reply_body  reply_created_utc  \\\n",
       "6613   reddit_lss_43  Testing-MessageTwo-30987         1622871499   \n",
       "6616  bluevinylmoon7                   thanks!         1622871499   \n",
       "\n",
       "                         reply  reply_char_counts  reply_word_counts_by_space  \n",
       "6613  Testing-MessageTwo-30987                 24                           1  \n",
       "6616                   thanks!                  7                           1  "
      ]
     },
     "execution_count": 19,
     "metadata": {},
     "output_type": "execute_result"
    }
   ],
   "source": [
    "# check results\n",
    "#df[df['reply_char_counts'] < 30].head(2)\n",
    "df[df['reply_char_counts'] < 30].tail(2)"
   ]
  },
  {
   "cell_type": "code",
   "execution_count": 20,
   "id": "ba351576",
   "metadata": {},
   "outputs": [
    {
     "data": {
      "text/html": [
       "<div>\n",
       "<style scoped>\n",
       "    .dataframe tbody tr th:only-of-type {\n",
       "        vertical-align: middle;\n",
       "    }\n",
       "\n",
       "    .dataframe tbody tr th {\n",
       "        vertical-align: top;\n",
       "    }\n",
       "\n",
       "    .dataframe thead th {\n",
       "        text-align: right;\n",
       "    }\n",
       "</style>\n",
       "<table border=\"1\" class=\"dataframe\">\n",
       "  <thead>\n",
       "    <tr style=\"text-align: right;\">\n",
       "      <th></th>\n",
       "      <th>submission_score</th>\n",
       "      <th>reply_created_utc</th>\n",
       "      <th>reply_char_counts</th>\n",
       "      <th>reply_word_counts_by_space</th>\n",
       "    </tr>\n",
       "  </thead>\n",
       "  <tbody>\n",
       "    <tr>\n",
       "      <th>count</th>\n",
       "      <td>6323.000000</td>\n",
       "      <td>6.323000e+03</td>\n",
       "      <td>6323.000000</td>\n",
       "      <td>6323.000000</td>\n",
       "    </tr>\n",
       "    <tr>\n",
       "      <th>mean</th>\n",
       "      <td>2.580263</td>\n",
       "      <td>1.610551e+09</td>\n",
       "      <td>163.619801</td>\n",
       "      <td>28.925826</td>\n",
       "    </tr>\n",
       "    <tr>\n",
       "      <th>std</th>\n",
       "      <td>8.121507</td>\n",
       "      <td>1.792379e+07</td>\n",
       "      <td>284.995360</td>\n",
       "      <td>49.515237</td>\n",
       "    </tr>\n",
       "    <tr>\n",
       "      <th>min</th>\n",
       "      <td>0.000000</td>\n",
       "      <td>1.547656e+09</td>\n",
       "      <td>1.000000</td>\n",
       "      <td>1.000000</td>\n",
       "    </tr>\n",
       "    <tr>\n",
       "      <th>25%</th>\n",
       "      <td>1.000000</td>\n",
       "      <td>1.603390e+09</td>\n",
       "      <td>34.000000</td>\n",
       "      <td>6.000000</td>\n",
       "    </tr>\n",
       "    <tr>\n",
       "      <th>50%</th>\n",
       "      <td>1.000000</td>\n",
       "      <td>1.622222e+09</td>\n",
       "      <td>81.000000</td>\n",
       "      <td>15.000000</td>\n",
       "    </tr>\n",
       "    <tr>\n",
       "      <th>75%</th>\n",
       "      <td>1.000000</td>\n",
       "      <td>1.622870e+09</td>\n",
       "      <td>185.000000</td>\n",
       "      <td>34.000000</td>\n",
       "    </tr>\n",
       "    <tr>\n",
       "      <th>max</th>\n",
       "      <td>132.000000</td>\n",
       "      <td>1.622871e+09</td>\n",
       "      <td>8928.000000</td>\n",
       "      <td>1525.000000</td>\n",
       "    </tr>\n",
       "  </tbody>\n",
       "</table>\n",
       "</div>"
      ],
      "text/plain": [
       "       submission_score  reply_created_utc  reply_char_counts  \\\n",
       "count       6323.000000       6.323000e+03        6323.000000   \n",
       "mean           2.580263       1.610551e+09         163.619801   \n",
       "std            8.121507       1.792379e+07         284.995360   \n",
       "min            0.000000       1.547656e+09           1.000000   \n",
       "25%            1.000000       1.603390e+09          34.000000   \n",
       "50%            1.000000       1.622222e+09          81.000000   \n",
       "75%            1.000000       1.622870e+09         185.000000   \n",
       "max          132.000000       1.622871e+09        8928.000000   \n",
       "\n",
       "       reply_word_counts_by_space  \n",
       "count                 6323.000000  \n",
       "mean                    28.925826  \n",
       "std                     49.515237  \n",
       "min                      1.000000  \n",
       "25%                      6.000000  \n",
       "50%                     15.000000  \n",
       "75%                     34.000000  \n",
       "max                   1525.000000  "
      ]
     },
     "execution_count": 20,
     "metadata": {},
     "output_type": "execute_result"
    }
   ],
   "source": [
    "# summary stats by those new numerical values we made\n",
    "df.describe()"
   ]
  },
  {
   "cell_type": "code",
   "execution_count": 21,
   "id": "b8686b9c",
   "metadata": {},
   "outputs": [
    {
     "data": {
      "text/plain": [
       "submission_id                 object\n",
       "submission_score               int64\n",
       "submission_title              object\n",
       "submission_link_flair_text    object\n",
       "submission_selftext           object\n",
       "reply_author                  object\n",
       "reply_body                    object\n",
       "reply_created_utc              int64\n",
       "reply                         object\n",
       "reply_char_counts              int64\n",
       "reply_word_counts_by_space     int64\n",
       "dtype: object"
      ]
     },
     "execution_count": 21,
     "metadata": {},
     "output_type": "execute_result"
    }
   ],
   "source": [
    "df.dtypes"
   ]
  },
  {
   "cell_type": "code",
   "execution_count": 22,
   "id": "24c5c7a6",
   "metadata": {},
   "outputs": [
    {
     "data": {
      "text/html": [
       "<div>\n",
       "<style scoped>\n",
       "    .dataframe tbody tr th:only-of-type {\n",
       "        vertical-align: middle;\n",
       "    }\n",
       "\n",
       "    .dataframe tbody tr th {\n",
       "        vertical-align: top;\n",
       "    }\n",
       "\n",
       "    .dataframe thead th {\n",
       "        text-align: right;\n",
       "    }\n",
       "</style>\n",
       "<table border=\"1\" class=\"dataframe\">\n",
       "  <thead>\n",
       "    <tr style=\"text-align: right;\">\n",
       "      <th></th>\n",
       "      <th>reply_word_counts_by_space</th>\n",
       "    </tr>\n",
       "  </thead>\n",
       "  <tbody>\n",
       "    <tr>\n",
       "      <th>count</th>\n",
       "      <td>6323.000000</td>\n",
       "    </tr>\n",
       "    <tr>\n",
       "      <th>mean</th>\n",
       "      <td>28.925826</td>\n",
       "    </tr>\n",
       "    <tr>\n",
       "      <th>std</th>\n",
       "      <td>49.515237</td>\n",
       "    </tr>\n",
       "    <tr>\n",
       "      <th>min</th>\n",
       "      <td>1.000000</td>\n",
       "    </tr>\n",
       "    <tr>\n",
       "      <th>25%</th>\n",
       "      <td>6.000000</td>\n",
       "    </tr>\n",
       "    <tr>\n",
       "      <th>50%</th>\n",
       "      <td>15.000000</td>\n",
       "    </tr>\n",
       "    <tr>\n",
       "      <th>75%</th>\n",
       "      <td>34.000000</td>\n",
       "    </tr>\n",
       "    <tr>\n",
       "      <th>max</th>\n",
       "      <td>1525.000000</td>\n",
       "    </tr>\n",
       "  </tbody>\n",
       "</table>\n",
       "</div>"
      ],
      "text/plain": [
       "       reply_word_counts_by_space\n",
       "count                 6323.000000\n",
       "mean                    28.925826\n",
       "std                     49.515237\n",
       "min                      1.000000\n",
       "25%                      6.000000\n",
       "50%                     15.000000\n",
       "75%                     34.000000\n",
       "max                   1525.000000"
      ]
     },
     "execution_count": 22,
     "metadata": {},
     "output_type": "execute_result"
    }
   ],
   "source": [
    "# insight 1. calculate summary stats for reply word counts by space\n",
    "df[['reply_word_counts_by_space']].describe()"
   ]
  },
  {
   "cell_type": "code",
   "execution_count": 23,
   "id": "3a2daae5",
   "metadata": {},
   "outputs": [
    {
     "data": {
      "text/plain": [
       "<AxesSubplot:ylabel='Frequency'>"
      ]
     },
     "execution_count": 23,
     "metadata": {},
     "output_type": "execute_result"
    },
    {
     "data": {
      "image/png": "[encoded data removed]",
      "text/plain": [
       "<Figure size 432x288 with 1 Axes>"
      ]
     },
     "metadata": {
      "needs_background": "light"
     },
     "output_type": "display_data"
    },
    {
     "data": {
      "image/png": "[encoded data removed]",
      "text/plain": [
       "<Figure size 432x288 with 1 Axes>"
      ]
     },
     "metadata": {
      "needs_background": "light"
     },
     "output_type": "display_data"
    }
   ],
   "source": [
    "# here's a boxplot and histogram visual of the distribution of word counts by space\n",
    "df[['reply_word_counts_by_space']].boxplot(column=['reply_word_counts_by_space']) \n",
    "df[['reply_word_counts_by_space']].plot.hist(bins=50)"
   ]
  },
  {
   "cell_type": "markdown",
   "id": "50edc297",
   "metadata": {},
   "source": [
    "Average number of word counts per reply is about 29 words"
   ]
  },
  {
   "cell_type": "code",
   "execution_count": 24,
   "id": "8bdc31b3",
   "metadata": {},
   "outputs": [
    {
     "data": {
      "text/html": [
       "<div>\n",
       "<style scoped>\n",
       "    .dataframe tbody tr th:only-of-type {\n",
       "        vertical-align: middle;\n",
       "    }\n",
       "\n",
       "    .dataframe tbody tr th {\n",
       "        vertical-align: top;\n",
       "    }\n",
       "\n",
       "    .dataframe thead th {\n",
       "        text-align: right;\n",
       "    }\n",
       "</style>\n",
       "<table border=\"1\" class=\"dataframe\">\n",
       "  <thead>\n",
       "    <tr style=\"text-align: right;\">\n",
       "      <th></th>\n",
       "      <th>reply_char_counts</th>\n",
       "    </tr>\n",
       "  </thead>\n",
       "  <tbody>\n",
       "    <tr>\n",
       "      <th>count</th>\n",
       "      <td>6323.000000</td>\n",
       "    </tr>\n",
       "    <tr>\n",
       "      <th>mean</th>\n",
       "      <td>163.619801</td>\n",
       "    </tr>\n",
       "    <tr>\n",
       "      <th>std</th>\n",
       "      <td>284.995360</td>\n",
       "    </tr>\n",
       "    <tr>\n",
       "      <th>min</th>\n",
       "      <td>1.000000</td>\n",
       "    </tr>\n",
       "    <tr>\n",
       "      <th>25%</th>\n",
       "      <td>34.000000</td>\n",
       "    </tr>\n",
       "    <tr>\n",
       "      <th>50%</th>\n",
       "      <td>81.000000</td>\n",
       "    </tr>\n",
       "    <tr>\n",
       "      <th>75%</th>\n",
       "      <td>185.000000</td>\n",
       "    </tr>\n",
       "    <tr>\n",
       "      <th>max</th>\n",
       "      <td>8928.000000</td>\n",
       "    </tr>\n",
       "  </tbody>\n",
       "</table>\n",
       "</div>"
      ],
      "text/plain": [
       "       reply_char_counts\n",
       "count        6323.000000\n",
       "mean          163.619801\n",
       "std           284.995360\n",
       "min             1.000000\n",
       "25%            34.000000\n",
       "50%            81.000000\n",
       "75%           185.000000\n",
       "max          8928.000000"
      ]
     },
     "execution_count": 24,
     "metadata": {},
     "output_type": "execute_result"
    }
   ],
   "source": [
    "# insight 2. calculate summary stats for character counts per reply\n",
    "df[['reply_char_counts']].describe()"
   ]
  },
  {
   "cell_type": "code",
   "execution_count": 25,
   "id": "dcd5a9b9",
   "metadata": {},
   "outputs": [
    {
     "data": {
      "text/plain": [
       "<AxesSubplot:ylabel='Frequency'>"
      ]
     },
     "execution_count": 25,
     "metadata": {},
     "output_type": "execute_result"
    },
    {
     "data": {
      "image/png": "[encoded data removed]",
      "text/plain": [
       "<Figure size 432x288 with 1 Axes>"
      ]
     },
     "metadata": {
      "needs_background": "light"
     },
     "output_type": "display_data"
    },
    {
     "data": {
      "image/png": "[encoded data removed]",
      "text/plain": [
       "<Figure size 432x288 with 1 Axes>"
      ]
     },
     "metadata": {
      "needs_background": "light"
     },
     "output_type": "display_data"
    }
   ],
   "source": [
    "# here's a boxplot and histogram visual of the distribution of char counts per reply\n",
    "df[['reply_char_counts']].boxplot(column=['reply_char_counts']) \n",
    "df[['reply_char_counts']].plot.hist(bins=50)"
   ]
  },
  {
   "cell_type": "markdown",
   "id": "b7bcaf26",
   "metadata": {},
   "source": [
    "Average character count per reply is 163.6"
   ]
  },
  {
   "cell_type": "code",
   "execution_count": 26,
   "id": "b5f478d8",
   "metadata": {},
   "outputs": [
    {
     "data": {
      "text/html": [
       "<div>\n",
       "<style scoped>\n",
       "    .dataframe tbody tr th:only-of-type {\n",
       "        vertical-align: middle;\n",
       "    }\n",
       "\n",
       "    .dataframe tbody tr th {\n",
       "        vertical-align: top;\n",
       "    }\n",
       "\n",
       "    .dataframe thead th {\n",
       "        text-align: right;\n",
       "    }\n",
       "</style>\n",
       "<table border=\"1\" class=\"dataframe\">\n",
       "  <thead>\n",
       "    <tr style=\"text-align: right;\">\n",
       "      <th></th>\n",
       "      <th>reply</th>\n",
       "    </tr>\n",
       "  </thead>\n",
       "  <tbody>\n",
       "    <tr>\n",
       "      <th>count</th>\n",
       "      <td>639.000000</td>\n",
       "    </tr>\n",
       "    <tr>\n",
       "      <th>mean</th>\n",
       "      <td>9.895149</td>\n",
       "    </tr>\n",
       "    <tr>\n",
       "      <th>std</th>\n",
       "      <td>9.081655</td>\n",
       "    </tr>\n",
       "    <tr>\n",
       "      <th>min</th>\n",
       "      <td>1.000000</td>\n",
       "    </tr>\n",
       "    <tr>\n",
       "      <th>25%</th>\n",
       "      <td>3.000000</td>\n",
       "    </tr>\n",
       "    <tr>\n",
       "      <th>50%</th>\n",
       "      <td>6.000000</td>\n",
       "    </tr>\n",
       "    <tr>\n",
       "      <th>75%</th>\n",
       "      <td>20.000000</td>\n",
       "    </tr>\n",
       "    <tr>\n",
       "      <th>max</th>\n",
       "      <td>42.000000</td>\n",
       "    </tr>\n",
       "  </tbody>\n",
       "</table>\n",
       "</div>"
      ],
      "text/plain": [
       "            reply\n",
       "count  639.000000\n",
       "mean     9.895149\n",
       "std      9.081655\n",
       "min      1.000000\n",
       "25%      3.000000\n",
       "50%      6.000000\n",
       "75%     20.000000\n",
       "max     42.000000"
      ]
     },
     "execution_count": 26,
     "metadata": {},
     "output_type": "execute_result"
    }
   ],
   "source": [
    "# insight 3. calculate summary stats for count of replies\n",
    "df[['submission_id', 'reply']].groupby(['submission_id']).agg(\n",
    "    {'reply': 'count'}).reset_index().describe()"
   ]
  },
  {
   "cell_type": "markdown",
   "id": "77bce928",
   "metadata": {},
   "source": [
    "The average number of replies per thread is about 10."
   ]
  },
  {
   "cell_type": "code",
   "execution_count": 27,
   "id": "2150555b",
   "metadata": {},
   "outputs": [
    {
     "data": {
      "text/plain": [
       "<AxesSubplot:ylabel='Frequency'>"
      ]
     },
     "execution_count": 27,
     "metadata": {},
     "output_type": "execute_result"
    },
    {
     "data": {
      "image/png": "[encoded data removed]",
      "text/plain": [
       "<Figure size 432x288 with 1 Axes>"
      ]
     },
     "metadata": {
      "needs_background": "light"
     },
     "output_type": "display_data"
    },
    {
     "data": {
      "image/png": "[encoded data removed]",
      "text/plain": [
       "<Figure size 432x288 with 1 Axes>"
      ]
     },
     "metadata": {
      "needs_background": "light"
     },
     "output_type": "display_data"
    }
   ],
   "source": [
    "# here's a boxplot and histogram visual of the distribution of reply count\n",
    "%matplotlib inline\n",
    "df[['submission_id', 'reply']].groupby(['submission_id']).agg(\n",
    "    {'reply': 'count'}).reset_index().boxplot(column=['reply']) \n",
    "\n",
    "df[['submission_id', 'reply']].groupby(['submission_id']).agg(\n",
    "    {'reply': 'count'}).reset_index().plot.hist(bins=50)"
   ]
  },
  {
   "cell_type": "code",
   "execution_count": 28,
   "id": "e43cfdf7",
   "metadata": {},
   "outputs": [
    {
     "data": {
      "text/html": [
       "<div>\n",
       "<style scoped>\n",
       "    .dataframe tbody tr th:only-of-type {\n",
       "        vertical-align: middle;\n",
       "    }\n",
       "\n",
       "    .dataframe tbody tr th {\n",
       "        vertical-align: top;\n",
       "    }\n",
       "\n",
       "    .dataframe thead th {\n",
       "        text-align: right;\n",
       "    }\n",
       "</style>\n",
       "<table border=\"1\" class=\"dataframe\">\n",
       "  <thead>\n",
       "    <tr style=\"text-align: right;\">\n",
       "      <th></th>\n",
       "      <th>submission_score</th>\n",
       "    </tr>\n",
       "  </thead>\n",
       "  <tbody>\n",
       "    <tr>\n",
       "      <th>count</th>\n",
       "      <td>639.000000</td>\n",
       "    </tr>\n",
       "    <tr>\n",
       "      <th>mean</th>\n",
       "      <td>2.395931</td>\n",
       "    </tr>\n",
       "    <tr>\n",
       "      <th>std</th>\n",
       "      <td>8.022581</td>\n",
       "    </tr>\n",
       "    <tr>\n",
       "      <th>min</th>\n",
       "      <td>0.000000</td>\n",
       "    </tr>\n",
       "    <tr>\n",
       "      <th>25%</th>\n",
       "      <td>1.000000</td>\n",
       "    </tr>\n",
       "    <tr>\n",
       "      <th>50%</th>\n",
       "      <td>1.000000</td>\n",
       "    </tr>\n",
       "    <tr>\n",
       "      <th>75%</th>\n",
       "      <td>1.000000</td>\n",
       "    </tr>\n",
       "    <tr>\n",
       "      <th>max</th>\n",
       "      <td>132.000000</td>\n",
       "    </tr>\n",
       "  </tbody>\n",
       "</table>\n",
       "</div>"
      ],
      "text/plain": [
       "       submission_score\n",
       "count        639.000000\n",
       "mean           2.395931\n",
       "std            8.022581\n",
       "min            0.000000\n",
       "25%            1.000000\n",
       "50%            1.000000\n",
       "75%            1.000000\n",
       "max          132.000000"
      ]
     },
     "execution_count": 28,
     "metadata": {},
     "output_type": "execute_result"
    }
   ],
   "source": [
    "# insight 4. calculate average number of upvotes for each thread\n",
    "\n",
    "submission_cols = [col for col in df.columns if 'submission' in col]\n",
    "submission_df = df[submission_cols].copy()\n",
    "submission_df.drop_duplicates(inplace=True)\n",
    "submission_df.shape\n",
    "\n",
    "submission_df[['submission_id', 'submission_score']].groupby(['submission_id']).agg(\n",
    "    {'submission_score': 'sum'}).reset_index().describe()\n"
   ]
  },
  {
   "cell_type": "code",
   "execution_count": 29,
   "id": "6db16737",
   "metadata": {},
   "outputs": [
    {
     "data": {
      "text/plain": [
       "<AxesSubplot:ylabel='Frequency'>"
      ]
     },
     "execution_count": 29,
     "metadata": {},
     "output_type": "execute_result"
    },
    {
     "data": {
      "image/png": "[encoded data removed]",
      "text/plain": [
       "<Figure size 432x288 with 1 Axes>"
      ]
     },
     "metadata": {
      "needs_background": "light"
     },
     "output_type": "display_data"
    },
    {
     "data": {
      "image/png": "[encoded data removed]",
      "text/plain": [
       "<Figure size 432x288 with 1 Axes>"
      ]
     },
     "metadata": {
      "needs_background": "light"
     },
     "output_type": "display_data"
    }
   ],
   "source": [
    "# here's a boxplot visual and histogram of upvotes\n",
    "%matplotlib inline\n",
    "submission_df[['submission_id', 'submission_score']].groupby(['submission_id']).agg(\n",
    "    {'submission_score': 'sum'}).reset_index().boxplot(column=['submission_score']) \n",
    "\n",
    "submission_df[['submission_id', 'submission_score']].groupby(['submission_id']).agg(\n",
    "    {'submission_score': 'sum'}).reset_index().plot.hist(bins=50)"
   ]
  },
  {
   "cell_type": "markdown",
   "id": "7bb1f9bd",
   "metadata": {},
   "source": [
    "The average number of upvotes per thread is about 2.39, but looking at the visuals, this measure is highly skewed."
   ]
  },
  {
   "cell_type": "code",
   "execution_count": 30,
   "id": "06c63561",
   "metadata": {},
   "outputs": [
    {
     "data": {
      "text/plain": [
       "reply_author\n",
       "AutoModerator    124\n",
       "XF939495xj6       29\n",
       "davemacdo         24\n",
       "moegnus           24\n",
       "Topherho          23\n",
       "Name: reply, dtype: int64"
      ]
     },
     "execution_count": 30,
     "metadata": {},
     "output_type": "execute_result"
    }
   ],
   "source": [
    "# insight 5. Authors with the highest number of replies\n",
    "df.groupby(['reply_author']).reply.count().sort_values(ascending=False).head()"
   ]
  },
  {
   "cell_type": "code",
   "execution_count": 31,
   "id": "a1a38dd0",
   "metadata": {},
   "outputs": [
    {
     "data": {
      "text/html": [
       "<div>\n",
       "<style scoped>\n",
       "    .dataframe tbody tr th:only-of-type {\n",
       "        vertical-align: middle;\n",
       "    }\n",
       "\n",
       "    .dataframe tbody tr th {\n",
       "        vertical-align: top;\n",
       "    }\n",
       "\n",
       "    .dataframe thead th {\n",
       "        text-align: right;\n",
       "    }\n",
       "</style>\n",
       "<table border=\"1\" class=\"dataframe\">\n",
       "  <thead>\n",
       "    <tr style=\"text-align: right;\">\n",
       "      <th></th>\n",
       "      <th>submission_id</th>\n",
       "      <th>submission_score</th>\n",
       "      <th>submission_title</th>\n",
       "      <th>submission_link_flair_text</th>\n",
       "      <th>submission_selftext</th>\n",
       "      <th>reply_author</th>\n",
       "      <th>reply_body</th>\n",
       "      <th>reply_created_utc</th>\n",
       "      <th>reply</th>\n",
       "      <th>reply_char_counts</th>\n",
       "      <th>reply_word_counts_by_space</th>\n",
       "    </tr>\n",
       "  </thead>\n",
       "  <tbody>\n",
       "    <tr>\n",
       "      <th>164</th>\n",
       "      <td>asuisg</td>\n",
       "      <td>3</td>\n",
       "      <td>Support requests do not work on safari</td>\n",
       "      <td>NaN</td>\n",
       "      <td>Thought I would call out again for support for naming bookmarks on version 5 given that we have had 28 days and 8 released since we were told that the team are working on it - they have done an excellent job adding search across notebooks, so not complaining. However, cannot submit to support page because the ‘bot filter’ is not displayed on safari on iPad....</td>\n",
       "      <td>AutoModerator</td>\n",
       "      <td>I did not read your argument. Due to me not reading your argument, it is now invalid. Due to your argument being invalid, I am therefore declared the winner of this debate.\\n\\n*I am a bot, and this action was performed automatically. Please [contact the moderators of this subreddit](/message/compose/?to=/r/BanVideoGames) if you have any questions or concerns.*</td>\n",
       "      <td>1622867861</td>\n",
       "      <td>I did not read your argument. Due to me not reading your argument, it is now invalid. Due to your argument being invalid, I am therefore declared the winner of this debate.\\n\\n*I am a bot, and this action was performed automatically. Please [contact the moderators of this subreddit](/message/compose/?to=/r/BanVideoGames) if you have any questions or concerns.*</td>\n",
       "      <td>360</td>\n",
       "      <td>56</td>\n",
       "    </tr>\n",
       "    <tr>\n",
       "      <th>256</th>\n",
       "      <td>ba2bcy</td>\n",
       "      <td>1</td>\n",
       "      <td>GoodNotes diary [ENG sub]</td>\n",
       "      <td>NaN</td>\n",
       "      <td>NaN</td>\n",
       "      <td>AutoModerator</td>\n",
       "      <td>\\n\\nPlease remember we are here as a representation of Andrew Yang. Do your part by being kind, respectful, and considerate of the humanity of your fellow users. \\n\\nIf you see comments in violation of our rules, please report them or tag the mods.\\n\\n\\n*I am a bot, and this action was performed automatically. Please [contact the moderators of this subreddit](/message/compose/?to=/r/YangForPresidentHQ) if you have any questions or concerns.*</td>\n",
       "      <td>1622867948</td>\n",
       "      <td>Please remember we are here as a representation of Andrew Yang. Do your part by being kind, respectful, and considerate of the humanity of your fellow users. \\n\\nIf you see comments in violation of our rules, please report them or tag the mods.\\n\\n\\n*I am a bot, and this action was performed automatically. Please [contact the moderators of this subreddit](/message/compose/?to=/r/YangForPresidentHQ) if you have any questions or concerns.*</td>\n",
       "      <td>436</td>\n",
       "      <td>67</td>\n",
       "    </tr>\n",
       "    <tr>\n",
       "      <th>317</th>\n",
       "      <td>byrrfc</td>\n",
       "      <td>1</td>\n",
       "      <td>Writing to text conversion?</td>\n",
       "      <td>Question - Other</td>\n",
       "      <td>Wondering if there is any other method of converting written text to typed text than the copy/paste? That is rather annoying.</td>\n",
       "      <td>AutoModerator</td>\n",
       "      <td>**‘Seeking straight boy’ posts are text only.** Solo photos of yourself may only be posted on Fridays under our STG Gonewild flair. All users are welcome to share stories, professional Porn videos and images, Comics, captions, discussion posts and other content related to our theme under any of our post flairs. \\n\\nAny pictures/videos of a ‘straight’ boy getting turned out can be posted under the ‘straight turned Gay’ post flair as long as two or more people are present in the photo.\\n\\nOur mission at r/straightturnedgay is to help 'straight' guys turn into sexually healthy, confident, and self-accepting gay/bi men. Check out our [rules](m.reddit.com/r/straightturnedgay/about/rules), and our ['Healthy Sexuality'](https://www.reddit.com/r/straightturnedgay/comments/j5090t/find_healthy_sexuality_avoid_a_toxic_life/) post for info/resources on self-acceptance, self-love and how to come out or share your attractions with those you love. Have fun!\\n\\n*I am a bot, and this action was performed automatically. Please [contact the moderators of this subreddit](/message/compose/?to=/r/straightturnedgay) if you have any questions or concerns.*</td>\n",
       "      <td>1622868300</td>\n",
       "      <td>**‘Seeking straight boy’ posts are text only.** Solo photos of yourself may only be posted on Fridays under our STG Gonewild flair. All users are welcome to share stories, professional Porn videos and images, Comics, captions, discussion posts and other content related to our theme under any of our post flairs. \\n\\nAny pictures/videos of a ‘straight’ boy getting turned out can be posted under the ‘straight turned Gay’ post flair as long as two or more people are present in the photo.\\n\\nOur mission at r/straightturnedgay is to help 'straight' guys turn into sexually healthy, confident, and self-accepting gay/bi men. Check out our [rules](m.reddit.com/r/straightturnedgay/about/rules), and our ['Healthy Sexuality'](https://www.reddit.com/r/straightturnedgay/comments/j5090t/find_healthy_sexuality_avoid_a_toxic_life/) post for info/resources on self-acceptance, self-love and how to come out or share your attractions with those you love. Have fun!\\n\\n*I am a bot, and this action was performed automatically. Please [contact the moderators of this subreddit](/message/compose/?to=/r/straightturnedgay) if you have any questions or concerns.*</td>\n",
       "      <td>1144</td>\n",
       "      <td>153</td>\n",
       "    </tr>\n",
       "    <tr>\n",
       "      <th>504</th>\n",
       "      <td>df5glb</td>\n",
       "      <td>1</td>\n",
       "      <td>Sub-Outlines ?</td>\n",
       "      <td>NaN</td>\n",
       "      <td>Hello!\\n\\nSo it’s been a while now and I still can’t’ figure out how to add « sub outlines », I mean, we can add pages to the outlines, but I’d like to organise them to have let’s say :\\n\\nOutlines :\\n- Chapter 1\\n   - lesson 1\\n   - lesson 2\\n-Chapter 2\\n   - lesson 1\\n   - lesson 2\\n\\ni only found out how to do that :\\n\\nOutlines :\\n- chapter 1\\n- lesson 1\\n- lesson 2\\n- chapter 2\\n- lesson 1\\n- lesson 2\\n\\nSorry if that’s quite not understandable \\n\\nCheers!</td>\n",
       "      <td>AutoModerator</td>\n",
       "      <td>Thanks for posting! Make sure to check out these great OF subs!\\n\\nr/SexyOnlyfansGirls\\n\\nr/DadShouldBeProud\\n\\nr/NaughtyOnlyfans\\n\\nr/GoneWildOnlyfans\\n\\nr/SluttyOnlyfans\\n\\n*I am a bot, and this action was performed automatically. Please [contact the moderators of this subreddit](/message/compose/?to=/r/AdorableOnlyfans) if you have any questions or concerns.*</td>\n",
       "      <td>1622868582</td>\n",
       "      <td>Thanks for posting! Make sure to check out these great OF subs!\\n\\nr/SexyOnlyfansGirls\\n\\nr/DadShouldBeProud\\n\\nr/NaughtyOnlyfans\\n\\nr/GoneWildOnlyfans\\n\\nr/SluttyOnlyfans\\n\\n*I am a bot, and this action was performed automatically. Please [contact the moderators of this subreddit](/message/compose/?to=/r/AdorableOnlyfans) if you have any questions or concerns.*</td>\n",
       "      <td>352</td>\n",
       "      <td>41</td>\n",
       "    </tr>\n",
       "    <tr>\n",
       "      <th>673</th>\n",
       "      <td>e05ie7</td>\n",
       "      <td>1</td>\n",
       "      <td>Why is this app so laggy and so buggy lately?</td>\n",
       "      <td>NaN</td>\n",
       "      <td>Noticed problems with scrolling and a lot of bugs in the last 2 months, what happened?</td>\n",
       "      <td>AutoModerator</td>\n",
       "      <td>Thanks for posting! Make sure to check out these great OF subs!\\n\\nr/SexyOnlyfansGirls\\n\\nr/DadShouldBeProud\\n\\nr/NaughtyOnlyfans\\n\\nr/GoneWildOnlyfans\\n\\nr/SluttyOnlyfans\\n\\n*I am a bot, and this action was performed automatically. Please [contact the moderators of this subreddit](/message/compose/?to=/r/AmateurGoneWildPlus) if you have any questions or concerns.*</td>\n",
       "      <td>1622868719</td>\n",
       "      <td>Thanks for posting! Make sure to check out these great OF subs!\\n\\nr/SexyOnlyfansGirls\\n\\nr/DadShouldBeProud\\n\\nr/NaughtyOnlyfans\\n\\nr/GoneWildOnlyfans\\n\\nr/SluttyOnlyfans\\n\\n*I am a bot, and this action was performed automatically. Please [contact the moderators of this subreddit](/message/compose/?to=/r/AmateurGoneWildPlus) if you have any questions or concerns.*</td>\n",
       "      <td>355</td>\n",
       "      <td>41</td>\n",
       "    </tr>\n",
       "  </tbody>\n",
       "</table>\n",
       "</div>"
      ],
      "text/plain": [
       "    submission_id  submission_score  \\\n",
       "164        asuisg                 3   \n",
       "256        ba2bcy                 1   \n",
       "317        byrrfc                 1   \n",
       "504        df5glb                 1   \n",
       "673        e05ie7                 1   \n",
       "\n",
       "                                  submission_title submission_link_flair_text  \\\n",
       "164         Support requests do not work on safari                        NaN   \n",
       "256                      GoodNotes diary [ENG sub]                        NaN   \n",
       "317                    Writing to text conversion?           Question - Other   \n",
       "504                                 Sub-Outlines ?                        NaN   \n",
       "673  Why is this app so laggy and so buggy lately?                        NaN   \n",
       "\n",
       "                                                                                                                                                                                                                                                                                                                                                                                                                                                                   submission_selftext  \\\n",
       "164                                                                                                         Thought I would call out again for support for naming bookmarks on version 5 given that we have had 28 days and 8 released since we were told that the team are working on it - they have done an excellent job adding search across notebooks, so not complaining. However, cannot submit to support page because the ‘bot filter’ is not displayed on safari on iPad....   \n",
       "256                                                                                                                                                                                                                                                                                                                                                                                                                                                                                NaN   \n",
       "317                                                                                                                                                                                                                                                                                                                                                      Wondering if there is any other method of converting written text to typed text than the copy/paste? That is rather annoying.   \n",
       "504  Hello!\\n\\nSo it’s been a while now and I still can’t’ figure out how to add « sub outlines », I mean, we can add pages to the outlines, but I’d like to organise them to have let’s say :\\n\\nOutlines :\\n- Chapter 1\\n   - lesson 1\\n   - lesson 2\\n-Chapter 2\\n   - lesson 1\\n   - lesson 2\\n\\ni only found out how to do that :\\n\\nOutlines :\\n- chapter 1\\n- lesson 1\\n- lesson 2\\n- chapter 2\\n- lesson 1\\n- lesson 2\\n\\nSorry if that’s quite not understandable \\n\\nCheers!   \n",
       "673                                                                                                                                                                                                                                                                                                                                                                                             Noticed problems with scrolling and a lot of bugs in the last 2 months, what happened?   \n",
       "\n",
       "      reply_author  \\\n",
       "164  AutoModerator   \n",
       "256  AutoModerator   \n",
       "317  AutoModerator   \n",
       "504  AutoModerator   \n",
       "673  AutoModerator   \n",
       "\n",
       "                                                                                                                                                                                                                                                                                                                                                                                                                                                                                                                                                                                                                                                                                                                                                                                                                                                                                                                                                                                                                                                                                                                                                                                         reply_body  \\\n",
       "164                                                                                                                                                                                                                                                                                                                                                                                                                                                                                                                                                                                                                                                                                                                                                                                                                      I did not read your argument. Due to me not reading your argument, it is now invalid. Due to your argument being invalid, I am therefore declared the winner of this debate.\\n\\n*I am a bot, and this action was performed automatically. Please [contact the moderators of this subreddit](/message/compose/?to=/r/BanVideoGames) if you have any questions or concerns.*   \n",
       "256                                                                                                                                                                                                                                                                                                                                                                                                                                                                                                                                                                                                                                                                                                                                   \\n\\nPlease remember we are here as a representation of Andrew Yang. Do your part by being kind, respectful, and considerate of the humanity of your fellow users. \\n\\nIf you see comments in violation of our rules, please report them or tag the mods.\\n\\n\\n*I am a bot, and this action was performed automatically. Please [contact the moderators of this subreddit](/message/compose/?to=/r/YangForPresidentHQ) if you have any questions or concerns.*   \n",
       "317  **‘Seeking straight boy’ posts are text only.** Solo photos of yourself may only be posted on Fridays under our STG Gonewild flair. All users are welcome to share stories, professional Porn videos and images, Comics, captions, discussion posts and other content related to our theme under any of our post flairs. \\n\\nAny pictures/videos of a ‘straight’ boy getting turned out can be posted under the ‘straight turned Gay’ post flair as long as two or more people are present in the photo.\\n\\nOur mission at r/straightturnedgay is to help 'straight' guys turn into sexually healthy, confident, and self-accepting gay/bi men. Check out our [rules](m.reddit.com/r/straightturnedgay/about/rules), and our ['Healthy Sexuality'](https://www.reddit.com/r/straightturnedgay/comments/j5090t/find_healthy_sexuality_avoid_a_toxic_life/) post for info/resources on self-acceptance, self-love and how to come out or share your attractions with those you love. Have fun!\\n\\n*I am a bot, and this action was performed automatically. Please [contact the moderators of this subreddit](/message/compose/?to=/r/straightturnedgay) if you have any questions or concerns.*   \n",
       "504                                                                                                                                                                                                                                                                                                                                                                                                                                                                                                                                                                                                                                                                                                                                                                                                                    Thanks for posting! Make sure to check out these great OF subs!\\n\\nr/SexyOnlyfansGirls\\n\\nr/DadShouldBeProud\\n\\nr/NaughtyOnlyfans\\n\\nr/GoneWildOnlyfans\\n\\nr/SluttyOnlyfans\\n\\n*I am a bot, and this action was performed automatically. Please [contact the moderators of this subreddit](/message/compose/?to=/r/AdorableOnlyfans) if you have any questions or concerns.*   \n",
       "673                                                                                                                                                                                                                                                                                                                                                                                                                                                                                                                                                                                                                                                                                                                                                                                                                 Thanks for posting! Make sure to check out these great OF subs!\\n\\nr/SexyOnlyfansGirls\\n\\nr/DadShouldBeProud\\n\\nr/NaughtyOnlyfans\\n\\nr/GoneWildOnlyfans\\n\\nr/SluttyOnlyfans\\n\\n*I am a bot, and this action was performed automatically. Please [contact the moderators of this subreddit](/message/compose/?to=/r/AmateurGoneWildPlus) if you have any questions or concerns.*   \n",
       "\n",
       "     reply_created_utc  \\\n",
       "164         1622867861   \n",
       "256         1622867948   \n",
       "317         1622868300   \n",
       "504         1622868582   \n",
       "673         1622868719   \n",
       "\n",
       "                                                                                                                                                                                                                                                                                                                                                                                                                                                                                                                                                                                                                                                                                                                                                                                                                                                                                                                                                                                                                                                                                                                                                                                              reply  \\\n",
       "164                                                                                                                                                                                                                                                                                                                                                                                                                                                                                                                                                                                                                                                                                                                                                                                                                      I did not read your argument. Due to me not reading your argument, it is now invalid. Due to your argument being invalid, I am therefore declared the winner of this debate.\\n\\n*I am a bot, and this action was performed automatically. Please [contact the moderators of this subreddit](/message/compose/?to=/r/BanVideoGames) if you have any questions or concerns.*   \n",
       "256                                                                                                                                                                                                                                                                                                                                                                                                                                                                                                                                                                                                                                                                                                                                       Please remember we are here as a representation of Andrew Yang. Do your part by being kind, respectful, and considerate of the humanity of your fellow users. \\n\\nIf you see comments in violation of our rules, please report them or tag the mods.\\n\\n\\n*I am a bot, and this action was performed automatically. Please [contact the moderators of this subreddit](/message/compose/?to=/r/YangForPresidentHQ) if you have any questions or concerns.*   \n",
       "317  **‘Seeking straight boy’ posts are text only.** Solo photos of yourself may only be posted on Fridays under our STG Gonewild flair. All users are welcome to share stories, professional Porn videos and images, Comics, captions, discussion posts and other content related to our theme under any of our post flairs. \\n\\nAny pictures/videos of a ‘straight’ boy getting turned out can be posted under the ‘straight turned Gay’ post flair as long as two or more people are present in the photo.\\n\\nOur mission at r/straightturnedgay is to help 'straight' guys turn into sexually healthy, confident, and self-accepting gay/bi men. Check out our [rules](m.reddit.com/r/straightturnedgay/about/rules), and our ['Healthy Sexuality'](https://www.reddit.com/r/straightturnedgay/comments/j5090t/find_healthy_sexuality_avoid_a_toxic_life/) post for info/resources on self-acceptance, self-love and how to come out or share your attractions with those you love. Have fun!\\n\\n*I am a bot, and this action was performed automatically. Please [contact the moderators of this subreddit](/message/compose/?to=/r/straightturnedgay) if you have any questions or concerns.*   \n",
       "504                                                                                                                                                                                                                                                                                                                                                                                                                                                                                                                                                                                                                                                                                                                                                                                                                    Thanks for posting! Make sure to check out these great OF subs!\\n\\nr/SexyOnlyfansGirls\\n\\nr/DadShouldBeProud\\n\\nr/NaughtyOnlyfans\\n\\nr/GoneWildOnlyfans\\n\\nr/SluttyOnlyfans\\n\\n*I am a bot, and this action was performed automatically. Please [contact the moderators of this subreddit](/message/compose/?to=/r/AdorableOnlyfans) if you have any questions or concerns.*   \n",
       "673                                                                                                                                                                                                                                                                                                                                                                                                                                                                                                                                                                                                                                                                                                                                                                                                                 Thanks for posting! Make sure to check out these great OF subs!\\n\\nr/SexyOnlyfansGirls\\n\\nr/DadShouldBeProud\\n\\nr/NaughtyOnlyfans\\n\\nr/GoneWildOnlyfans\\n\\nr/SluttyOnlyfans\\n\\n*I am a bot, and this action was performed automatically. Please [contact the moderators of this subreddit](/message/compose/?to=/r/AmateurGoneWildPlus) if you have any questions or concerns.*   \n",
       "\n",
       "     reply_char_counts  reply_word_counts_by_space  \n",
       "164                360                          56  \n",
       "256                436                          67  \n",
       "317               1144                         153  \n",
       "504                352                          41  \n",
       "673                355                          41  "
      ]
     },
     "execution_count": 31,
     "metadata": {},
     "output_type": "execute_result"
    }
   ],
   "source": [
    "df[df.reply_author=='AutoModerator'].head()"
   ]
  },
  {
   "cell_type": "code",
   "execution_count": 32,
   "id": "f6dc92af",
   "metadata": {},
   "outputs": [
    {
     "data": {
      "text/html": [
       "<div>\n",
       "<style scoped>\n",
       "    .dataframe tbody tr th:only-of-type {\n",
       "        vertical-align: middle;\n",
       "    }\n",
       "\n",
       "    .dataframe tbody tr th {\n",
       "        vertical-align: top;\n",
       "    }\n",
       "\n",
       "    .dataframe thead th {\n",
       "        text-align: right;\n",
       "    }\n",
       "</style>\n",
       "<table border=\"1\" class=\"dataframe\">\n",
       "  <thead>\n",
       "    <tr style=\"text-align: right;\">\n",
       "      <th></th>\n",
       "      <th>submission_id</th>\n",
       "      <th>submission_score</th>\n",
       "      <th>submission_title</th>\n",
       "      <th>submission_link_flair_text</th>\n",
       "      <th>submission_selftext</th>\n",
       "      <th>reply_author</th>\n",
       "      <th>reply_body</th>\n",
       "      <th>reply_created_utc</th>\n",
       "      <th>reply</th>\n",
       "      <th>reply_char_counts</th>\n",
       "      <th>reply_word_counts_by_space</th>\n",
       "    </tr>\n",
       "  </thead>\n",
       "  <tbody>\n",
       "    <tr>\n",
       "      <th>164</th>\n",
       "      <td>asuisg</td>\n",
       "      <td>3</td>\n",
       "      <td>Support requests do not work on safari</td>\n",
       "      <td>NaN</td>\n",
       "      <td>Thought I would call out again for support for naming bookmarks on version 5 given that we have had 28 days and 8 released since we were told that the team are working on it - they have done an excellent job adding search across notebooks, so not complaining. However, cannot submit to support page because the ‘bot filter’ is not displayed on safari on iPad....</td>\n",
       "      <td>AutoModerator</td>\n",
       "      <td>I did not read your argument. Due to me not reading your argument, it is now invalid. Due to your argument being invalid, I am therefore declared the winner of this debate.\\n\\n*I am a bot, and this action was performed automatically. Please [contact the moderators of this subreddit](/message/compose/?to=/r/BanVideoGames) if you have any questions or concerns.*</td>\n",
       "      <td>1622867861</td>\n",
       "      <td>I did not read your argument. Due to me not reading your argument, it is now invalid. Due to your argument being invalid, I am therefore declared the winner of this debate.\\n\\n*I am a bot, and this action was performed automatically. Please [contact the moderators of this subreddit](/message/compose/?to=/r/BanVideoGames) if you have any questions or concerns.*</td>\n",
       "      <td>360</td>\n",
       "      <td>56</td>\n",
       "    </tr>\n",
       "    <tr>\n",
       "      <th>256</th>\n",
       "      <td>ba2bcy</td>\n",
       "      <td>1</td>\n",
       "      <td>GoodNotes diary [ENG sub]</td>\n",
       "      <td>NaN</td>\n",
       "      <td>NaN</td>\n",
       "      <td>AutoModerator</td>\n",
       "      <td>\\n\\nPlease remember we are here as a representation of Andrew Yang. Do your part by being kind, respectful, and considerate of the humanity of your fellow users. \\n\\nIf you see comments in violation of our rules, please report them or tag the mods.\\n\\n\\n*I am a bot, and this action was performed automatically. Please [contact the moderators of this subreddit](/message/compose/?to=/r/YangForPresidentHQ) if you have any questions or concerns.*</td>\n",
       "      <td>1622867948</td>\n",
       "      <td>Please remember we are here as a representation of Andrew Yang. Do your part by being kind, respectful, and considerate of the humanity of your fellow users. \\n\\nIf you see comments in violation of our rules, please report them or tag the mods.\\n\\n\\n*I am a bot, and this action was performed automatically. Please [contact the moderators of this subreddit](/message/compose/?to=/r/YangForPresidentHQ) if you have any questions or concerns.*</td>\n",
       "      <td>436</td>\n",
       "      <td>67</td>\n",
       "    </tr>\n",
       "    <tr>\n",
       "      <th>317</th>\n",
       "      <td>byrrfc</td>\n",
       "      <td>1</td>\n",
       "      <td>Writing to text conversion?</td>\n",
       "      <td>Question - Other</td>\n",
       "      <td>Wondering if there is any other method of converting written text to typed text than the copy/paste? That is rather annoying.</td>\n",
       "      <td>AutoModerator</td>\n",
       "      <td>**‘Seeking straight boy’ posts are text only.** Solo photos of yourself may only be posted on Fridays under our STG Gonewild flair. All users are welcome to share stories, professional Porn videos and images, Comics, captions, discussion posts and other content related to our theme under any of our post flairs. \\n\\nAny pictures/videos of a ‘straight’ boy getting turned out can be posted under the ‘straight turned Gay’ post flair as long as two or more people are present in the photo.\\n\\nOur mission at r/straightturnedgay is to help 'straight' guys turn into sexually healthy, confident, and self-accepting gay/bi men. Check out our [rules](m.reddit.com/r/straightturnedgay/about/rules), and our ['Healthy Sexuality'](https://www.reddit.com/r/straightturnedgay/comments/j5090t/find_healthy_sexuality_avoid_a_toxic_life/) post for info/resources on self-acceptance, self-love and how to come out or share your attractions with those you love. Have fun!\\n\\n*I am a bot, and this action was performed automatically. Please [contact the moderators of this subreddit](/message/compose/?to=/r/straightturnedgay) if you have any questions or concerns.*</td>\n",
       "      <td>1622868300</td>\n",
       "      <td>**‘Seeking straight boy’ posts are text only.** Solo photos of yourself may only be posted on Fridays under our STG Gonewild flair. All users are welcome to share stories, professional Porn videos and images, Comics, captions, discussion posts and other content related to our theme under any of our post flairs. \\n\\nAny pictures/videos of a ‘straight’ boy getting turned out can be posted under the ‘straight turned Gay’ post flair as long as two or more people are present in the photo.\\n\\nOur mission at r/straightturnedgay is to help 'straight' guys turn into sexually healthy, confident, and self-accepting gay/bi men. Check out our [rules](m.reddit.com/r/straightturnedgay/about/rules), and our ['Healthy Sexuality'](https://www.reddit.com/r/straightturnedgay/comments/j5090t/find_healthy_sexuality_avoid_a_toxic_life/) post for info/resources on self-acceptance, self-love and how to come out or share your attractions with those you love. Have fun!\\n\\n*I am a bot, and this action was performed automatically. Please [contact the moderators of this subreddit](/message/compose/?to=/r/straightturnedgay) if you have any questions or concerns.*</td>\n",
       "      <td>1144</td>\n",
       "      <td>153</td>\n",
       "    </tr>\n",
       "    <tr>\n",
       "      <th>504</th>\n",
       "      <td>df5glb</td>\n",
       "      <td>1</td>\n",
       "      <td>Sub-Outlines ?</td>\n",
       "      <td>NaN</td>\n",
       "      <td>Hello!\\n\\nSo it’s been a while now and I still can’t’ figure out how to add « sub outlines », I mean, we can add pages to the outlines, but I’d like to organise them to have let’s say :\\n\\nOutlines :\\n- Chapter 1\\n   - lesson 1\\n   - lesson 2\\n-Chapter 2\\n   - lesson 1\\n   - lesson 2\\n\\ni only found out how to do that :\\n\\nOutlines :\\n- chapter 1\\n- lesson 1\\n- lesson 2\\n- chapter 2\\n- lesson 1\\n- lesson 2\\n\\nSorry if that’s quite not understandable \\n\\nCheers!</td>\n",
       "      <td>AutoModerator</td>\n",
       "      <td>Thanks for posting! Make sure to check out these great OF subs!\\n\\nr/SexyOnlyfansGirls\\n\\nr/DadShouldBeProud\\n\\nr/NaughtyOnlyfans\\n\\nr/GoneWildOnlyfans\\n\\nr/SluttyOnlyfans\\n\\n*I am a bot, and this action was performed automatically. Please [contact the moderators of this subreddit](/message/compose/?to=/r/AdorableOnlyfans) if you have any questions or concerns.*</td>\n",
       "      <td>1622868582</td>\n",
       "      <td>Thanks for posting! Make sure to check out these great OF subs!\\n\\nr/SexyOnlyfansGirls\\n\\nr/DadShouldBeProud\\n\\nr/NaughtyOnlyfans\\n\\nr/GoneWildOnlyfans\\n\\nr/SluttyOnlyfans\\n\\n*I am a bot, and this action was performed automatically. Please [contact the moderators of this subreddit](/message/compose/?to=/r/AdorableOnlyfans) if you have any questions or concerns.*</td>\n",
       "      <td>352</td>\n",
       "      <td>41</td>\n",
       "    </tr>\n",
       "    <tr>\n",
       "      <th>673</th>\n",
       "      <td>e05ie7</td>\n",
       "      <td>1</td>\n",
       "      <td>Why is this app so laggy and so buggy lately?</td>\n",
       "      <td>NaN</td>\n",
       "      <td>Noticed problems with scrolling and a lot of bugs in the last 2 months, what happened?</td>\n",
       "      <td>AutoModerator</td>\n",
       "      <td>Thanks for posting! Make sure to check out these great OF subs!\\n\\nr/SexyOnlyfansGirls\\n\\nr/DadShouldBeProud\\n\\nr/NaughtyOnlyfans\\n\\nr/GoneWildOnlyfans\\n\\nr/SluttyOnlyfans\\n\\n*I am a bot, and this action was performed automatically. Please [contact the moderators of this subreddit](/message/compose/?to=/r/AmateurGoneWildPlus) if you have any questions or concerns.*</td>\n",
       "      <td>1622868719</td>\n",
       "      <td>Thanks for posting! Make sure to check out these great OF subs!\\n\\nr/SexyOnlyfansGirls\\n\\nr/DadShouldBeProud\\n\\nr/NaughtyOnlyfans\\n\\nr/GoneWildOnlyfans\\n\\nr/SluttyOnlyfans\\n\\n*I am a bot, and this action was performed automatically. Please [contact the moderators of this subreddit](/message/compose/?to=/r/AmateurGoneWildPlus) if you have any questions or concerns.*</td>\n",
       "      <td>355</td>\n",
       "      <td>41</td>\n",
       "    </tr>\n",
       "  </tbody>\n",
       "</table>\n",
       "</div>"
      ],
      "text/plain": [
       "    submission_id  submission_score  \\\n",
       "164        asuisg                 3   \n",
       "256        ba2bcy                 1   \n",
       "317        byrrfc                 1   \n",
       "504        df5glb                 1   \n",
       "673        e05ie7                 1   \n",
       "\n",
       "                                  submission_title submission_link_flair_text  \\\n",
       "164         Support requests do not work on safari                        NaN   \n",
       "256                      GoodNotes diary [ENG sub]                        NaN   \n",
       "317                    Writing to text conversion?           Question - Other   \n",
       "504                                 Sub-Outlines ?                        NaN   \n",
       "673  Why is this app so laggy and so buggy lately?                        NaN   \n",
       "\n",
       "                                                                                                                                                                                                                                                                                                                                                                                                                                                                   submission_selftext  \\\n",
       "164                                                                                                         Thought I would call out again for support for naming bookmarks on version 5 given that we have had 28 days and 8 released since we were told that the team are working on it - they have done an excellent job adding search across notebooks, so not complaining. However, cannot submit to support page because the ‘bot filter’ is not displayed on safari on iPad....   \n",
       "256                                                                                                                                                                                                                                                                                                                                                                                                                                                                                NaN   \n",
       "317                                                                                                                                                                                                                                                                                                                                                      Wondering if there is any other method of converting written text to typed text than the copy/paste? That is rather annoying.   \n",
       "504  Hello!\\n\\nSo it’s been a while now and I still can’t’ figure out how to add « sub outlines », I mean, we can add pages to the outlines, but I’d like to organise them to have let’s say :\\n\\nOutlines :\\n- Chapter 1\\n   - lesson 1\\n   - lesson 2\\n-Chapter 2\\n   - lesson 1\\n   - lesson 2\\n\\ni only found out how to do that :\\n\\nOutlines :\\n- chapter 1\\n- lesson 1\\n- lesson 2\\n- chapter 2\\n- lesson 1\\n- lesson 2\\n\\nSorry if that’s quite not understandable \\n\\nCheers!   \n",
       "673                                                                                                                                                                                                                                                                                                                                                                                             Noticed problems with scrolling and a lot of bugs in the last 2 months, what happened?   \n",
       "\n",
       "      reply_author  \\\n",
       "164  AutoModerator   \n",
       "256  AutoModerator   \n",
       "317  AutoModerator   \n",
       "504  AutoModerator   \n",
       "673  AutoModerator   \n",
       "\n",
       "                                                                                                                                                                                                                                                                                                                                                                                                                                                                                                                                                                                                                                                                                                                                                                                                                                                                                                                                                                                                                                                                                                                                                                                         reply_body  \\\n",
       "164                                                                                                                                                                                                                                                                                                                                                                                                                                                                                                                                                                                                                                                                                                                                                                                                                      I did not read your argument. Due to me not reading your argument, it is now invalid. Due to your argument being invalid, I am therefore declared the winner of this debate.\\n\\n*I am a bot, and this action was performed automatically. Please [contact the moderators of this subreddit](/message/compose/?to=/r/BanVideoGames) if you have any questions or concerns.*   \n",
       "256                                                                                                                                                                                                                                                                                                                                                                                                                                                                                                                                                                                                                                                                                                                                   \\n\\nPlease remember we are here as a representation of Andrew Yang. Do your part by being kind, respectful, and considerate of the humanity of your fellow users. \\n\\nIf you see comments in violation of our rules, please report them or tag the mods.\\n\\n\\n*I am a bot, and this action was performed automatically. Please [contact the moderators of this subreddit](/message/compose/?to=/r/YangForPresidentHQ) if you have any questions or concerns.*   \n",
       "317  **‘Seeking straight boy’ posts are text only.** Solo photos of yourself may only be posted on Fridays under our STG Gonewild flair. All users are welcome to share stories, professional Porn videos and images, Comics, captions, discussion posts and other content related to our theme under any of our post flairs. \\n\\nAny pictures/videos of a ‘straight’ boy getting turned out can be posted under the ‘straight turned Gay’ post flair as long as two or more people are present in the photo.\\n\\nOur mission at r/straightturnedgay is to help 'straight' guys turn into sexually healthy, confident, and self-accepting gay/bi men. Check out our [rules](m.reddit.com/r/straightturnedgay/about/rules), and our ['Healthy Sexuality'](https://www.reddit.com/r/straightturnedgay/comments/j5090t/find_healthy_sexuality_avoid_a_toxic_life/) post for info/resources on self-acceptance, self-love and how to come out or share your attractions with those you love. Have fun!\\n\\n*I am a bot, and this action was performed automatically. Please [contact the moderators of this subreddit](/message/compose/?to=/r/straightturnedgay) if you have any questions or concerns.*   \n",
       "504                                                                                                                                                                                                                                                                                                                                                                                                                                                                                                                                                                                                                                                                                                                                                                                                                    Thanks for posting! Make sure to check out these great OF subs!\\n\\nr/SexyOnlyfansGirls\\n\\nr/DadShouldBeProud\\n\\nr/NaughtyOnlyfans\\n\\nr/GoneWildOnlyfans\\n\\nr/SluttyOnlyfans\\n\\n*I am a bot, and this action was performed automatically. Please [contact the moderators of this subreddit](/message/compose/?to=/r/AdorableOnlyfans) if you have any questions or concerns.*   \n",
       "673                                                                                                                                                                                                                                                                                                                                                                                                                                                                                                                                                                                                                                                                                                                                                                                                                 Thanks for posting! Make sure to check out these great OF subs!\\n\\nr/SexyOnlyfansGirls\\n\\nr/DadShouldBeProud\\n\\nr/NaughtyOnlyfans\\n\\nr/GoneWildOnlyfans\\n\\nr/SluttyOnlyfans\\n\\n*I am a bot, and this action was performed automatically. Please [contact the moderators of this subreddit](/message/compose/?to=/r/AmateurGoneWildPlus) if you have any questions or concerns.*   \n",
       "\n",
       "     reply_created_utc  \\\n",
       "164         1622867861   \n",
       "256         1622867948   \n",
       "317         1622868300   \n",
       "504         1622868582   \n",
       "673         1622868719   \n",
       "\n",
       "                                                                                                                                                                                                                                                                                                                                                                                                                                                                                                                                                                                                                                                                                                                                                                                                                                                                                                                                                                                                                                                                                                                                                                                              reply  \\\n",
       "164                                                                                                                                                                                                                                                                                                                                                                                                                                                                                                                                                                                                                                                                                                                                                                                                                      I did not read your argument. Due to me not reading your argument, it is now invalid. Due to your argument being invalid, I am therefore declared the winner of this debate.\\n\\n*I am a bot, and this action was performed automatically. Please [contact the moderators of this subreddit](/message/compose/?to=/r/BanVideoGames) if you have any questions or concerns.*   \n",
       "256                                                                                                                                                                                                                                                                                                                                                                                                                                                                                                                                                                                                                                                                                                                                       Please remember we are here as a representation of Andrew Yang. Do your part by being kind, respectful, and considerate of the humanity of your fellow users. \\n\\nIf you see comments in violation of our rules, please report them or tag the mods.\\n\\n\\n*I am a bot, and this action was performed automatically. Please [contact the moderators of this subreddit](/message/compose/?to=/r/YangForPresidentHQ) if you have any questions or concerns.*   \n",
       "317  **‘Seeking straight boy’ posts are text only.** Solo photos of yourself may only be posted on Fridays under our STG Gonewild flair. All users are welcome to share stories, professional Porn videos and images, Comics, captions, discussion posts and other content related to our theme under any of our post flairs. \\n\\nAny pictures/videos of a ‘straight’ boy getting turned out can be posted under the ‘straight turned Gay’ post flair as long as two or more people are present in the photo.\\n\\nOur mission at r/straightturnedgay is to help 'straight' guys turn into sexually healthy, confident, and self-accepting gay/bi men. Check out our [rules](m.reddit.com/r/straightturnedgay/about/rules), and our ['Healthy Sexuality'](https://www.reddit.com/r/straightturnedgay/comments/j5090t/find_healthy_sexuality_avoid_a_toxic_life/) post for info/resources on self-acceptance, self-love and how to come out or share your attractions with those you love. Have fun!\\n\\n*I am a bot, and this action was performed automatically. Please [contact the moderators of this subreddit](/message/compose/?to=/r/straightturnedgay) if you have any questions or concerns.*   \n",
       "504                                                                                                                                                                                                                                                                                                                                                                                                                                                                                                                                                                                                                                                                                                                                                                                                                    Thanks for posting! Make sure to check out these great OF subs!\\n\\nr/SexyOnlyfansGirls\\n\\nr/DadShouldBeProud\\n\\nr/NaughtyOnlyfans\\n\\nr/GoneWildOnlyfans\\n\\nr/SluttyOnlyfans\\n\\n*I am a bot, and this action was performed automatically. Please [contact the moderators of this subreddit](/message/compose/?to=/r/AdorableOnlyfans) if you have any questions or concerns.*   \n",
       "673                                                                                                                                                                                                                                                                                                                                                                                                                                                                                                                                                                                                                                                                                                                                                                                                                 Thanks for posting! Make sure to check out these great OF subs!\\n\\nr/SexyOnlyfansGirls\\n\\nr/DadShouldBeProud\\n\\nr/NaughtyOnlyfans\\n\\nr/GoneWildOnlyfans\\n\\nr/SluttyOnlyfans\\n\\n*I am a bot, and this action was performed automatically. Please [contact the moderators of this subreddit](/message/compose/?to=/r/AmateurGoneWildPlus) if you have any questions or concerns.*   \n",
       "\n",
       "     reply_char_counts  reply_word_counts_by_space  \n",
       "164                360                          56  \n",
       "256                436                          67  \n",
       "317               1144                         153  \n",
       "504                352                          41  \n",
       "673                355                          41  "
      ]
     },
     "execution_count": 32,
     "metadata": {},
     "output_type": "execute_result"
    }
   ],
   "source": [
    "# appears to be a bot with common string in replies promoting OnlyFans\n",
    "df[df.reply.str.contains('this action was performed automatically')].head()"
   ]
  },
  {
   "cell_type": "code",
   "execution_count": 33,
   "id": "12611d1d",
   "metadata": {},
   "outputs": [
    {
     "data": {
      "text/plain": [
       "(125, 11)"
      ]
     },
     "execution_count": 33,
     "metadata": {},
     "output_type": "execute_result"
    }
   ],
   "source": [
    "df[df.reply.str.contains('this action was performed automatically')].shape"
   ]
  },
  {
   "cell_type": "code",
   "execution_count": 34,
   "id": "dbe07957",
   "metadata": {},
   "outputs": [
    {
     "data": {
      "text/html": [
       "<div>\n",
       "<style scoped>\n",
       "    .dataframe tbody tr th:only-of-type {\n",
       "        vertical-align: middle;\n",
       "    }\n",
       "\n",
       "    .dataframe tbody tr th {\n",
       "        vertical-align: top;\n",
       "    }\n",
       "\n",
       "    .dataframe thead th {\n",
       "        text-align: right;\n",
       "    }\n",
       "</style>\n",
       "<table border=\"1\" class=\"dataframe\">\n",
       "  <thead>\n",
       "    <tr style=\"text-align: right;\">\n",
       "      <th></th>\n",
       "      <th>reply</th>\n",
       "    </tr>\n",
       "    <tr>\n",
       "      <th>submission_title</th>\n",
       "      <th></th>\n",
       "    </tr>\n",
       "  </thead>\n",
       "  <tbody>\n",
       "    <tr>\n",
       "      <th>Error E001-E</th>\n",
       "      <td>67</td>\n",
       "    </tr>\n",
       "    <tr>\n",
       "      <th>Pasting text from outside Goodnotes</th>\n",
       "      <td>59</td>\n",
       "    </tr>\n",
       "    <tr>\n",
       "      <th>I keep seeing notes on here, and I thought I’d share mine. Digital note-taking has changed my life; it actually encourages!</th>\n",
       "      <td>54</td>\n",
       "    </tr>\n",
       "    <tr>\n",
       "      <th>Outline Shortcut?</th>\n",
       "      <td>50</td>\n",
       "    </tr>\n",
       "    <tr>\n",
       "      <th>Text typing pipe not showing up/updating to current position on mac.</th>\n",
       "      <td>49</td>\n",
       "    </tr>\n",
       "    <tr>\n",
       "      <th>Notebook Covers</th>\n",
       "      <td>47</td>\n",
       "    </tr>\n",
       "    <tr>\n",
       "      <th>GoodNotes is the best thing ever🥰🥰🥰</th>\n",
       "      <td>42</td>\n",
       "    </tr>\n",
       "    <tr>\n",
       "      <th>thinking about getting an ipad...</th>\n",
       "      <td>41</td>\n",
       "    </tr>\n",
       "    <tr>\n",
       "      <th>If I posted free digital stickers, would you use them?</th>\n",
       "      <td>38</td>\n",
       "    </tr>\n",
       "    <tr>\n",
       "      <th>I tried out procreate and made 25 fun notebook covers for you all (link in comments)</th>\n",
       "      <td>37</td>\n",
       "    </tr>\n",
       "  </tbody>\n",
       "</table>\n",
       "</div>"
      ],
      "text/plain": [
       "                                                                                                                             reply\n",
       "submission_title                                                                                                                  \n",
       "Error E001-E                                                                                                                    67\n",
       "Pasting text from outside Goodnotes                                                                                             59\n",
       "I keep seeing notes on here, and I thought I’d share mine. Digital note-taking has changed my life; it actually encourages!     54\n",
       "Outline Shortcut?                                                                                                               50\n",
       "Text typing pipe not showing up/updating to current position on mac.                                                            49\n",
       "Notebook Covers                                                                                                                 47\n",
       "GoodNotes is the best thing ever🥰🥰🥰                                                                                             42\n",
       "thinking about getting an ipad...                                                                                               41\n",
       "If I posted free digital stickers, would you use them?                                                                          38\n",
       "I tried out procreate and made 25 fun notebook covers for you all (link in comments)                                            37"
      ]
     },
     "execution_count": 34,
     "metadata": {},
     "output_type": "execute_result"
    }
   ],
   "source": [
    "# here is a list of the top thread titles with highest number of replies\n",
    "df[['submission_title', 'reply']].groupby(['submission_title']).agg(\n",
    "    {'reply': 'count'}).sort_values(by=\"reply\", ascending=False)[:10]"
   ]
  },
  {
   "cell_type": "code",
   "execution_count": 35,
   "id": "bf3c50cb",
   "metadata": {},
   "outputs": [],
   "source": [
    "selected_thread_title = \"thinking about getting an ipad...\"\n",
    "top_cnt_thread = df[df['submission_title'] == selected_thread_title].sort_values('reply_created_utc')"
   ]
  },
  {
   "cell_type": "code",
   "execution_count": 36,
   "id": "8b96c62c",
   "metadata": {},
   "outputs": [
    {
     "name": "stdout",
     "output_type": "stream",
     "text": [
      "I switched to digital notes during my second year of college and as such have six semesters and three years of experience with them, and I can say I GREATLY prefer them over physical notes.  The ability to search for things in-text but still have the option to draw diagrams makes them very useful.  I also like them for future reference, because I have all of the notebooks from my last three years in college and none of them from my first two, and I can access them both on my iPad and any other device which can access Google Drive.\n",
      "------------------------------------------------------------\n",
      "That certainly sounds convenient. Knowing me, I’m Prly gonna end up buying the iPad, I just wanna hear stories from other people about this\n",
      "------------------------------------------------------------\n",
      "I love it! It takes some time to getting used to, the writing feeling especially, but it's very practical. You can access your notes from literally anywhere if you Auto synch them as a pdf (as well with/instead of via iCloud, I do both) so if you just want to look something up but don't have your iPad with you, your notes are on your Cloud. It also saves so much paper. My brother, who is also doing online school but doesn't take notes digitally, has to print out sooo much and I can just import it and write on the iPad. Also being able to search your notes is so practical\n",
      "\n",
      "I really like it and spend so much time on my iPad I'd say it's a must have for me\n",
      "------------------------------------------------------------\n",
      "I switched over to writing my notes on a ipad earlier this year. I was initially concerned whether or not I'll like it but so far it's working fantastically for me. I can't recommend it enough\n",
      "------------------------------------------------------------\n",
      "I bought an iPad Air a couple months back to take my work notes digital and I only wish I did it sooner. My work recently became very note intensive and I’ve gone through umpteen notepads since lockdown began and having to rifle back to find old notes was becoming unmanageable. With GoodNotes you can search your handwritten notes which is awesome!\n",
      "\n",
      "Such an amazing feeling with an Apple Pencil and a matte screen protector.\n",
      "\n",
      "100% go for it. You won’t regret it\n",
      "------------------------------------------------------------\n",
      "Honestly having an iPad for college completely changed my college experience. I switched to an iPad for notetaking my third semester in college after killing so many trees printing out powerpoint after powerpoint to take notes on. The iPad completely changed this: no more hauling around notebooks and binders, no more losing pencils and refilling ink in pens... it’s just awesome. As a perfectionist but also someone who loves writing in pen, I would constantly be stressed out in fear of messing up my notes and having to scratch out work on paper. On the iPad, you can just undo it and forget it ever happened! I’d highly recommend the iPad Air for notetaking and choosing Goodnotes :)\n",
      "------------------------------------------------------------\n",
      "Okay, thank you so much 😊\n",
      "------------------------------------------------------------\n",
      "I def gotta get it now\n",
      "------------------------------------------------------------\n",
      "I wish I hadn't finished college yet so I could use my iPad lol. In the last year I took notes in Evernote with my Moto G4.\n",
      "------------------------------------------------------------\n",
      "I started digital note-taking in my last year of school. I used a Lenovo Yoga with onenote to write stuff down. I mostly write mathematical stuff so having a pen for these is a no-brainer for me. I gave many people advice on digital note-taking, which device is the best one for them etc, and i boiled it down to a few questions you should ask yourself :\n",
      "\n",
      "1. Do you ACTUALLY need digital notes? What is the real benefit of making them because it's kind of hyped now and many people just \"do some scetches\" or just \"write that one equation down\", for those it is probably not the best thing to do. Don't forget: Digital note-taking is expensive. Every device which is capable of taking digital notes with a pen is relatively expensive, ipads (especially the pro-line), laptops which can be flipped(like the one i used) or laptop/tablet hybrids (like the surface pro).\n",
      "\n",
      "2. If you decide it's worth your money, pick a device that fits your needs. If you pretty much only use a pen (and have a \"real computer at hand) get an iPad, the pen is straight up the best in the game. If you also need some power on the go, get something like the yoga, it's a solid laptop with up to 8 cores, 32GB of ram, blablabla, depends on your needs and also if you use this as your only machine or as a secondary device.\n",
      "\n",
      "3. Maybe a normal laptop is just right for you? If you study something like languages, economics or law, you will be mostly writing texts. So having a good keyboard is a necessity. In that case, a normal laptop would be pretty much all you need. Be honest with yourself and don't just buy something because \"well XY is using this for his studies so it must work for me\".\n",
      "\n",
      "4. Do you have the skills to actually benefit from the digital world? I know, this sounds harsh because \"of course i have those, i mean this is the modern world and i live inside of it\". But believe it or not, many of my colleagues just don't have the skill set to efficiently take digital notes. Not just copy/paste, but you have to adjust your work flow, keep your data in a useful structure, make backups (seriously, if anyone reads this and doesn't have a backup of his/her notes, make one right now) and many other things like \"how does my colleague get this thing\", what if i want to collab with people etc etc etc... \n",
      "\n",
      "\n",
      "Paper with a pen let's you do everything you can imagine, but every application, every device you use is designed by people who are thinking different than you. I got really frustrated while trying to find THE PERFECT App for taking notes until i figured out, not a single app can do everything i want it to.\n",
      "I still use a good ol' paper-notebook for brainstorming, just because it gives me the opportunity to do exactly what i want, no \"super smooth curves\" or \"super clean images\". Some things are just messy in and of itself, and nothing is better at capturing your thoughts that a piece of paper and a pen.\n",
      "\n",
      "\n",
      "Maybe this sounds like a rant, i am really not, but maybe this should be a step into seeing the downsides of digital note-taking and not just the beautiful future we want it to be...\n",
      "\n",
      "If you want some further advice, just pm me, budget, usage are pretty important factors (as i already mentioned) so with more information about your future use case etc maybe i can be a little more helpful\n",
      "------------------------------------------------------------\n",
      "It definitely is, it's helped my organisation so much. No more forgetting notes/textbooks to class as I only need to remember my iPad, and no more breaking my back with said books in my backpack.\n",
      "------------------------------------------------------------\n",
      "I finished my first degree by mostly writing on paper. At least during the lectures. I usually wrote a study guide on my laptop but it wasn't perfect. I always wished for a way to make it pretty and efficient by highlighting definitions in boxes or just highlight with a digital highlighter. To be honest I think I would have been happy with paper notes but I always wished for an iPad it was just too expensive I thought.\n",
      "In my last year I used a surface thinking I would have a laptop that's easy to carry around for writing stuff with a keyboard but I also wanted to take digital handwritten notes. My biggest problem with taking digital hand written notes on the surface was that I was using one note and it just didn't work for me. I've searched ages for an app that would let you annotated PDFs and also let's you put pages \"in between\" because my studying often required answering questions in the scripts. All the apps I found were prescription based and thats's just unnecessary expensive imo. I just hated that I had three binders for math because I wanted to have the questions of the lecture of my homework and of studying separately. With goodnotes you can have these different binders all in one place.\n",
      "\n",
      "I also want to highlight the functions of digital notes during covid-19. My university requires us to upload our homework or work in teams online. And it's just so much easier to share your screen or send an email with you homework without scanning it first.\n",
      "Sooo long story short my boyfriend bought an iPad and i used it everytime he didn't. I loved it so much that I bought my own and i regret I didn't do that earlier.\n",
      "------------------------------------------------------------\n",
      "I agree with everyone who is saying that it takes time to get used to! I always swore that I would never make the switch. I lugged around my pens, mildliners, and Moleskines in college because I was determined not to go digital. Then I started thinking about grad school and realized that things like books and articles could be exported into Goodnotes and annotated, and I caved. I would never EVER switch back. I love digital notes SO much. \n",
      "\n",
      "edit: (I have the iPad Pro)\n",
      "\n",
      "edit #2 lol I truly never read other poster’s comments before posting my own. I skim them. This is in response to mathematical Lenovo user. \n",
      "\n",
      "Firstly, I would be wary of any Microsoft user who is warning you off buying a Mac product. In my experience, it’s 80/20 that they have a strong anti-Mac bias. (I used exclusively Microsoft products pre-2016)\n",
      "\n",
      "Secondly, I have a Macbook Pro 2016 and an iPad Pro May 2020 model. These are my two primary devices. My use for them will be different from our mathematical friend over at Lenovo. Still, I’ll say this from my own experience—I am shocked just often I reach for my iPad after years of using my Macbook for everything. Now, this will not be your case. The iPad Pro can replace some functions of the Macbook Pro, but even then, it can’t substitute itself for one. However, with a keyboard and a mouse, you’re a hell of a lot more equipped to run the iPad as a “Mobile Oval,” to lovingly quote from “Veep.” It’s your presidential replacement on the go, and from what I understand, even the iPad Air can handle that. (Isn’t the Gen 2 Apple Pencil now compatible with the Air?) \n",
      "\n",
      "Secondly.Two, if you’ll take a recommendation from me, ditch the stupid keyboard case and cut straight for the Logitech super slim keyboard. It’s waterproof and weighs very little. I love mine. Get a cheap case from Amazon or something. The keyboard cases are ridiculously overpriced. The Logitech keyboard is something like $70 and holds a charge forever. \n",
      "\n",
      "Thirdly, I don’t know what your learning style is, what your major might be, or what else you may want to consider, but digital note-taking is an excellent idea for people with significant reading loads. I was an English education major, and I’ll be attending a master’s program for journalism this fall. I foresaw a hefty reading load. That means I had to lug around several literary anthologies, print out hundreds of short stories etc., etc. It would’ve saved me money to buy the iPad in the first place. \n",
      "\n",
      "Fourthly, I do want to point out that you shouldn’t be buying the iPad because of what you see from this trend in digital note-taking. It’s very pretty, and that is definitely why I love it, but it is a considerable expense. I am impulsive by nature. If you are wise, you may want to have someone sit down with you and work out the figures. \n",
      "\n",
      "I would say I printed well over 8k pages while in undergrad. That’s for sure lowballing. I know for one class alone, I had to have printed at least a thousand. And that was one single semester. Weigh printer costs against what you would save. I don’t know. Maybe you will break even, and perhaps it’ll be significantly more expensive to buy the iPad. I’m not a math person. \n",
      "\n",
      "Fifth, and finally, I think it’s essential that you have something to look forward to going into college. I think it’s worth noting that I use my iPad every single day and have used it almost every day since I purchased it. Now, granted, I did buy it during quarantine, so that’s not a perfect example. However, I do use Goodnotes every day, and I am currently not working and am not attending school until the fall. \n",
      "\n",
      "Some highlights:\n",
      "\n",
      "* I love digital planning now. I was never a consistent planner before, but now I try to plan out my week (or at least jot some things down). I bought my planner from Three65Planners on Etsy, and I highly recommend it. It’s loaded with hyperlinks and templates. \n",
      "* Organization. I have severe ADHD, and my organization has always been “throw things anywhere.” Goodnotes’ search feature is fantastic, and I have tons of folders. \n",
      "* Color options. I have 150 pen presets, and 48 highlighter presets on Goodnotes. Think about lugging around 150 pens and 48 highlighters, a huge planner, and 70 journals. That would suck. \n",
      "* Stickers. Digital stickers are super fun. I have over a thousand digital stickers saved! \n",
      "\n",
      "\n",
      "A downside:\n",
      "* Learning to write on an iPad sucks. I highly recommend getting a palm rejection glove. My handwriting looked like a third-grader when I first got my iPad.\n",
      "------------------------------------------------------------\n",
      "Yes go for it, personally it completely changed the game and my grades have improved vastly. I have the ipad 7th gen and the first apple pencil, i also have a keyboard case from amazon i use if i need it but i mainly write everything down. I like goodnotes because i am able to access my notes &amp; digital textbooks on my phone and on my laptop through google drive.\n",
      "------------------------------------------------------------\n",
      "From an old response to this question but -\n",
      "\n",
      "“I would highly recommend it. I got one my second year of college and haven’t looked back. I honestly forget what it’s like to take notes on physical paper. It’s super convenient having all your searchable notes, pdf textbooks, lecture slides, and multiple colored pens and highlighters of all different sizes all in one tiny place. I’ve compared some of my notes since getting my iPad to before and it’s night and day in terms of readability and structure. It’s kind of weird to say but digital note taking makes taking notes “fun”. I could go on forever about all the benefits but there are a few cons.\n",
      "From my experience, I’ve encountered a very small amount of things that made me say “ugh” since the switch. With everything technology, there will be occasional issues and bugs (e.g. documents disappearing, random spazzes when writing with the Apple Pencil, etc), but these have happened to me maybe a handful of times. Plus, there are plenty of ways to mitigate the damages of these bugs.\n",
      "I’ve motivated like 4-5 of my friends to switch to digital note taking and they’ve enjoyed the switch. One of my friends has atrocious handwriting and him switching helped him create more readable notes to reference later. Just remember it works for some people better than others. I know people who’d rather take paper notes because the feel and it helps them retain information better. If you have an Apple Store near you or a friend who has an iPad, give it a try. Copy some of your handwritten notes over on the iPad and see what you think. Try to improve them in the process to get a feel of ways it might help make your notes better. Good luck!”\n",
      "------------------------------------------------------------\n",
      "You'll definitely get biased opinions in this subreddit, but I agree with what others have said here! Some of the features like OCR for searching handwriting and ease of annotating preexisting documents are just irreplaceable.\n",
      "------------------------------------------------------------\n",
      "I wonder what percentage of school notes look like what ends up posted here for our neatness gratification. I for one cannot make anything look really attractive unless I have the ability to spend time doing and redoing which I cannot imagine you'd have in a lecture or seminar setting taking notes from a live speaker. Redoing them is of course an option, so if you're ok doing that and in split screen and are confident you'd be hitting the goals you have in mind...\n",
      "------------------------------------------------------------\n",
      "I did digital through grad school, granted it was on an HP that had pen capabilities. Scanned my books in on my all in one. Years later, have my notes and things anywhere I go. Love.\n",
      "------------------------------------------------------------\n",
      "Absolute game changer. It’s so convenient. On top of that I’m more organized than I’ve ever been. It’s absolutely worth every penny. Do it.\n",
      "------------------------------------------------------------\n",
      "Love using my iPad Air for school. It’s so convenient to have all your notes and school-related documents in one place while also not having to worry about printing, organizing, and bringing them everywhere. I also download my textbooks and it’s so helpful to not have to bring many books wherever I go. Makes assignments and life in general easier!\n",
      "------------------------------------------------------------\n",
      "How do you recommend backing up your digital notes?\n",
      "------------------------------------------------------------\n",
      "I had similar thoughts about ipads and ended up buying an Ipad Air (4th Gen.) a few months ago and I think it's 120% worth it. I love how I can load the lecture slides and take notes on top of them, and how it reduces the pain on my right wrist. You don't need a pro, air is good enough for students imo.\n",
      "------------------------------------------------------------\n",
      "Buying an ipad has totally changed the game for me, note-taking and studying goes to a whole new level.I've been using it for 2 years now and i feel its the best device i ever bought and i would recommend it to every student who has more of notes taking and making work in studies. Best part is that we can integrate images with the notes and annotate it.\n",
      "------------------------------------------------------------\n",
      "I’m such a paper and pen girl, I journal and do traditional art and just love doing stuff on paper with my beloved pens, BUT. School notes? No. Digital only. I used to have an ipad pro 12”9, but recently switched to a normal 10”2 ipad. I love how personalized you can get on the go and don’t have to take 4 notebooks with you if you wanna learn.\n",
      "\n",
      "My comment is so unclear, because I just woke up, lmao, short summary: Love the ipad for notes, really useful, but I only have classes at home (even before covid) so I don’t have to worry abt time pressure.\n",
      "------------------------------------------------------------\n",
      "I back them up in different ways:\n",
      "\n",
      "I have a copy in my self-hosted cloud and one on the hard drive of my pc.\n",
      "\n",
      "You can also read something about \"basic backup safety\" and will find some good ideas\n",
      "------------------------------------------------------------\n",
      "I only got the iPad for digital notes in my 4th year of university and honestly I’m so mad I didn’t do this earlier!! It’s saved so much time with organising notes and makes it easier to study because you don’t see the massive pile of notes and papers on your desk. I initially was worried about missing paper and stationary and all that but taking notes on the iPad and reading is so much more convenient especially if you like to study in libraries or coffee shops. You can also make them really pretty and nice if you enjoy that. It will save you so much time especially because in university the information they give you is just all over the place and they love giving lots of slides and handouts so I definitely recommend using an iPad to make it more convenient and easy. Hope I’ve helped a bit let me know if you have questions I love speaking about iPads hahah :))\n",
      "------------------------------------------------------------\n",
      "Also I forgot to mention, it depends on what course you’re studying so it might be useful for you if you need to learn lots of things or write stuff out a ton. However, if you’re taking a course where it’s mostly writing ideas and essays and things like that, an iPad may not be as useful to you. So it might be worth doing a semester without an iPad and then seeing how you feel around December time?\n",
      "------------------------------------------------------------\n",
      "Hey, the lenovo-guy here :D\n",
      "\n",
      "I don't really get your first point... I know some of my windows/android using friends like really hate apple for... Well everything. I gotta admit, i was one of them a few years back but that has changed.\n",
      "\n",
      "Today i am a mess when i comes to operating systems:\n",
      "\n",
      "I use an android phone, the big IPadPro, a windows pc, a windows/linux laptop and a Linux server (like no graphical interface). I still didn't get to like macos very much but that's just because i love to tinker with stuff so having a mac kinda limits me in unnecessary ways (probably there are workarounds n stuff, but i like the way my machine works) plus i also game some time so gaming on a mac was never the best experience... I just use things the way i like to work with them,who knows, maybe soon i will have a macbook because of THE ONE THING, but maybe i won't :D\n",
      "\n",
      "But i totally get why people use them, don't get me wrong. Especially the new imac models are just *pheew that's hot*... While talking about \"digital note-taking i mostly refer to writing with the apple pencil, after reading my comment again, i kinda mixed things around when talking about that. Digital notes are still digital if you type them, obviously.\n",
      "\n",
      "Also i wanna thank you for the idea of highlighting in long texts on the ipad, so i would have to optimize my questions:\n",
      "\n",
      "Do you have a lot of writing to do? Get a good keyboard. (no longer \"do you have to do a lot with long texts\")\n",
      "------------------------------------------------------------\n",
      "From a college instructor standpoint, here's how I see it being super useful:\n",
      "\n",
      "1) get a digital copy of the syllabus for the class (in the course shell, ask instructor, scan it, whatever)\n",
      "\n",
      "2) put it in keynote, and create blank slide for each topic on the syllabus. hyperlink the syllabus topic to the corresponding slide. \n",
      "\n",
      "3) Create a blank slide for any assignment where you feel you will need or be given more information about it at a later date (ex. a research paper would get a slide) and hyperlink it. \n",
      "\n",
      "4) create pdf from keynote slides, import it into goodnotes (a worthy $5 investment).\n",
      "\n",
      "5) in the notebook, click on the topic and proceed to taking notes. you can also import any slides the instructor gives, take pics of slides, etc. right there. \n",
      "\n",
      "Good luck!\n",
      "------------------------------------------------------------\n",
      "I would definetely recommend getting one !! I‘ve had mine for one semester now and it was the best desicion i made. Two things (which i had to learn the hard way): If you are going to use a bluetooth keyboard with your ipad, make sure to always turn it off before putting it in your bag/backpack! i had to completely reset my ipad because of this. You also should keep backups of the notes on your ipad and in some sort of cloud storage (icloud, google drive, one drive).\n",
      "------------------------------------------------------------\n",
      "It has been by far the most amazing experience for me\n",
      "\n",
      "I had an iPad since March 2020, I bought the pencil this January 2021 and I thought that “no I need to write on paper so that I don’t lose the habit of writing on paper” (because all my exams for the next four years are subjective three hour long papers where I have to write pages and pages of answers)\n",
      "\n",
      "And then I got curious and I started using Apple Notes\n",
      "\n",
      "I organised everything year wise and subject wise (I’m now in the second year)\n",
      "\n",
      "And I really liked it\n",
      "\n",
      "I only had to carry this one device to the lecture hall\n",
      "\n",
      "And I could use split view to read textbook PDFs in iBooks\n",
      "\n",
      "And then I discovered GoodNotes\n",
      "\n",
      "Yeah Apple Notes is amazing\n",
      "\n",
      "But goodnotes just simply blew my mind away\n",
      "\n",
      "To be honest I don’t really spend on Apps because I think if I don’t use them then I’ll waste the money\n",
      "(Except Apple Music and Netflix haha)\n",
      "\n",
      "So then I watched [this](https://youtu.be/83RhJEyzCKc) video that compared Apple Notes to GoodNotes and then I thought why not give it a try\n",
      "\n",
      "And then I bought it in March 2021\n",
      "\n",
      "And when I started using it, I couldn’t even imagine all the things this app could do! It can do SO MUCH (some might think that it’s normal, but for me, a newbie, I was, and still am in awe of this app)\n",
      "\n",
      "Plus my notes are much neater and more enhanced as I can add and delete stuff later on, and also I have endless colours and images and stickers to make them look appealing and functional at the same time\n",
      "\n",
      "I cannot simply come to terms with the fact that all I have to study is in one device, that is with me wherever I am\n",
      "\n",
      "And because of this pandemic and how it has affected my country (India), I had to constantly move from my hostel in my medical college to my home and back because of the varying restrictions\n",
      "\n",
      "And I couldn’t be more than grateful\n",
      "\n",
      "And of course there is iCloud, so everything is still safe even if something happens to my device (god forbid)\n",
      "\n",
      "Also there are many video lectures that I watch, so I can just use split view and write away (again, just one device)\n",
      "\n",
      "So now I have realised the importance of digital note taking\n",
      "\n",
      "And I can only imagine the stacks of physical notebooks and tons of binders I would’ve collected over the years, trying to search for one small important lecture that a teacher had taken 4 years ago\n",
      "\n",
      "Okay this is too long, but hey thanks for asking for personal experiences with digital note taking, because I’m honestly proud of myself for doing this🙈\n",
      "\n",
      "Oh and you can watch [this](https://youtu.be/wW4QcHaeubk) video from Kharma Medic too if you haven’t already! \n",
      "\n",
      "He speaks about digital note taking and its pros.\n",
      "------------------------------------------------------------\n",
      "Thank you so much for this :)\n",
      "------------------------------------------------------------\n",
      "Hey and you also don’t need to buy a Pro or anything like that! \n",
      "Air 4 with the 2nd gen Apple Pencil does the job perfectly for me\n",
      "And I also bought the keyboard for the iPad since I don’t have a laptop or a desktop (and I don’t need one at all) \n",
      "It comes in handy for the occasional typing \n",
      "\n",
      "It’s all upto how you’re gonna make use of it, and it certainly depends on what you’re studying, like the others said in the comments :)\n",
      "------------------------------------------------------------\n",
      "Do it! I used to write all my notes on paper (ended up with a whole box full for 8months worth of notes). Then I tried the reusable note notebooks which didn’t do me any good because they just smudge (I’m left handed) spent a good $60 on those. Then switched to my iPad and it was the best experience ever. My notes are neatly in folders.\n",
      "------------------------------------------------------------\n",
      "This was such a well presented reply for the OP.\n",
      "------------------------------------------------------------\n",
      "Thanks! I teach English composition, so I hope I can compose well. (I also teach speech, so all of my posts read a little bit like speeches.)\n",
      "------------------------------------------------------------\n",
      "I highly recommend going digital. Quarantine + College forced me to go digital.  \n",
      "\n",
      "\n",
      "I bought a used iPad Pro 11\" May 2020 because I was tired of printing 8-15 page assignments/tests to write in the answers, scan them back in, and email to the instructor. He HAD to have hand written answers, would not accept typed. I talked to a tech/nerd friend of mine for help and he suggested iPad Pro with 2nd Gen pen. I was worried about spending the money but oh my goodness I have ZERO regrets. \n",
      "\n",
      "In addition to it making college more efficient, it makes my life in general more efficient. \n",
      "\n",
      "This is a small list of what I use Goodnotes for daily:   \n",
      "Planner/Calendar  \n",
      "Notebooks for life stuff  \n",
      "Business notes for the business I am starting   \n",
      "Scans of certificates, etc. essential for my business operations  \n",
      "I download PDF books from z-lib and read them in GN - then I can highlight, write notes, etc.   \n",
      "I download my college text books from z-lib (free BTW) and take notes, etc during class.   \n",
      "PDF instructions for sewing patterns  \n",
      "Sewing pattern file notes  \n",
      "I had created a hyperlinked notebook for a surgery I had in 2020 that I was able to export as a PDF to my surgeon   \n",
      "Scan word search pages into the app for something to do on the go that isn't social media linked LOL \n",
      "\n",
      "My daughter has an iPad Air and she was taking notes for a big test in her FFA class and worried she would not have enough information. I had her download GN and showed her how to import pictures, write, change text, etc. and she was able to create an entire sheet of near perfect notes that her teacher allowed her to use in class and he was blown away by it. Even asked if he could have a copy to share with the others. \n",
      "\n",
      "The possibilities really are endless. I am currently setting up another iPad for a friend who is a contractor. He lives out of notebooks and sticky notes and it is a complete disaster. So I am setting him up to transition to the digital world to make his life more efficient and his business more professional/productive. \n",
      "\n",
      "PS You can pick up a decent iPad Pro 11\" right now on marketplace. My buddy bought a bundle in perfect condition from someone for $600.\n",
      "------------------------------------------------------------\n",
      "You detailed it nicely and gave great pros and cons. And I especially love the reference about the pens and highlighters (I might be a pen/highlighter junkie)\n",
      "------------------------------------------------------------\n",
      "I started taking digital notes in uni with a Samsung 10.1 note. Loved it. For my purposes, I took a lot of engineering courses which are not worth trying to type notes for - plus there were a LOT of diagrams. \n",
      "\n",
      "\n",
      "I also have a back/shoulder injury, so I try my best to carry a light load. Currently I teach said engineering courses, so I have an iPad Pro for giving notes and marking up drawings. I can share my screen and it's much more comfortable for me than writing on a whiteboard for long periods of time. I also refuse to accept hard copy drawing submissions for my drafting courses. It's much easier to mark them up in a pdf and send them back to my students, and it prevents me from carrying 100 11x17 drawing packages (and saves my students $$$).\n",
      "\n",
      "\n",
      "I like being able to move things around, and create space for additional ideas that fit in with something I've written previously. Goodnotes is great for all of the folder options, and I like the fading pointer feature when I'm going over a PowerPoint. Personally, I wouldn't go back to school without it.\n",
      "------------------------------------------------------------\n",
      "If the notes are just for me, they're usually barely legible at first. I kind of do this on purpose - I want to redo them later. It helps me be more concise in my notes, and it's an opportunity for review.\n",
      "------------------------------------------------------------\n",
      "YES!!! THE BEST IDEA EVER! I am a high school stud and I absolutely loooove my ipad. I have an ipad mini bc I think that the model of the ipad fits in my bag perfectly but the air is also a great option. Goodnotes has been my best friend!\n",
      "------------------------------------------------------------\n"
     ]
    }
   ],
   "source": [
    "# what are people discussing obout in the selected thread title?\n",
    "for body in top_cnt_thread.reply:\n",
    "    print(body)\n",
    "    print(\"--\"*30)\n"
   ]
  },
  {
   "cell_type": "markdown",
   "id": "f5957a5c",
   "metadata": {},
   "source": [
    "One popular thread is titled `thinking about getting an ipad...`. There are plenty of discussions about personal experiences using the digital notes for school."
   ]
  },
  {
   "cell_type": "code",
   "execution_count": 37,
   "id": "54764188",
   "metadata": {},
   "outputs": [],
   "source": [
    "import seaborn as sns\n",
    "from sklearn.feature_extraction.text import CountVectorizer\n",
    "import matplotlib.pyplot as plt\n",
    "import numpy as np\n",
    "\n",
    "document = df['reply'].str.lower()"
   ]
  },
  {
   "cell_type": "code",
   "execution_count": 38,
   "id": "a979def1",
   "metadata": {},
   "outputs": [],
   "source": [
    "def get_top_ngram(corpus, n):\n",
    "    \"\"\" Generate n-gram when given a collection of documents\"\"\"\n",
    "    vec = CountVectorizer(ngram_range=(n, n)).fit(corpus)\n",
    "    bag_of_words = vec.transform(corpus)\n",
    "    sum_words = bag_of_words.sum(axis=0) \n",
    "    words_freq = [(word, sum_words[0, idx]) \n",
    "                  for word, idx in vec.vocabulary_.items()]\n",
    "    words_freq =sorted(words_freq, key = lambda x: x[1], reverse=True)\n",
    "    return words_freq\n"
   ]
  },
  {
   "cell_type": "code",
   "execution_count": 39,
   "id": "537d2fd4",
   "metadata": {},
   "outputs": [
    {
     "data": {
      "text/plain": [
       "[('if you', 580),\n",
       " ('of the', 435),\n",
       " ('in the', 430),\n",
       " ('you can', 408),\n",
       " ('on the', 331),\n",
       " ('thank you', 326),\n",
       " ('you have', 313),\n",
       " ('to be', 291),\n",
       " ('to the', 285),\n",
       " ('you re', 262),\n",
       " ('for the', 247),\n",
       " ('this is', 232)]"
      ]
     },
     "execution_count": 39,
     "metadata": {},
     "output_type": "execute_result"
    }
   ],
   "source": [
    "get_top_ngram(corpus=document, n=2)[:12]"
   ]
  },
  {
   "cell_type": "code",
   "execution_count": 40,
   "id": "b2f4b236",
   "metadata": {},
   "outputs": [],
   "source": [
    "# looking at top ngrams\n",
    "def graph_ngrams(corpus = document, topn=30, ngram=2):\n",
    "    \"\"\" Visualize ngram of a corpus\"\"\"\n",
    "    fig, ax = plt.subplots(figsize=(8, 10))\n",
    "    top_n_bigrams = get_top_ngram(corpus, ngram)[:topn]\n",
    "    y,x=map(list,zip(*top_n_bigrams))\n",
    "    sns.barplot(x=x, y=y)\n",
    "    plt.show()"
   ]
  },
  {
   "cell_type": "code",
   "execution_count": 41,
   "id": "975db09c",
   "metadata": {},
   "outputs": [
    {
     "data": {
      "image/png": "[encoded data removed]",
      "text/plain": [
       "<Figure size 576x720 with 1 Axes>"
      ]
     },
     "metadata": {
      "needs_background": "light"
     },
     "output_type": "display_data"
    }
   ],
   "source": [
    "graph_ngrams(ngram=1)"
   ]
  },
  {
   "cell_type": "code",
   "execution_count": 42,
   "id": "3440f7e7",
   "metadata": {},
   "outputs": [
    {
     "data": {
      "image/png": "[encoded data removed]",
      "text/plain": [
       "<Figure size 576x720 with 1 Axes>"
      ]
     },
     "metadata": {
      "needs_background": "light"
     },
     "output_type": "display_data"
    }
   ],
   "source": [
    "graph_ngrams(ngram=2)"
   ]
  },
  {
   "cell_type": "code",
   "execution_count": 43,
   "id": "22813f28",
   "metadata": {},
   "outputs": [
    {
     "data": {
      "image/png": "[encoded data removed]",
      "text/plain": [
       "<Figure size 576x720 with 1 Axes>"
      ]
     },
     "metadata": {
      "needs_background": "light"
     },
     "output_type": "display_data"
    }
   ],
   "source": [
    "graph_ngrams(ngram=3)"
   ]
  },
  {
   "cell_type": "code",
   "execution_count": 44,
   "id": "4bf61591",
   "metadata": {},
   "outputs": [
    {
     "data": {
      "image/png": "[encoded data removed]",
      "text/plain": [
       "<Figure size 576x720 with 1 Axes>"
      ]
     },
     "metadata": {
      "needs_background": "light"
     },
     "output_type": "display_data"
    }
   ],
   "source": [
    "graph_ngrams(ngram=4)"
   ]
  },
  {
   "cell_type": "code",
   "execution_count": 45,
   "id": "a33fef5c",
   "metadata": {},
   "outputs": [],
   "source": [
    "df.to_csv(\"output/initial_eda.csv\")"
   ]
  },
  {
   "cell_type": "markdown",
   "id": "282636e9",
   "metadata": {},
   "source": [
    "##  Findings from N-Gram Analysis:\n",
    "* Lots of stop words in 1-gram that don't have any meaningful insights (e.g. the, and)\n",
    "* Excessive use of `goodnotes` in 1-gram, which is expected given the query in the subreddit\n",
    "* `thank you` or `thank you very much` appear frequently; common courtesy in social media platform\n",
    "* lots of sharing to external links"
   ]
  }
 ],
 "metadata": {
  "kernelspec": {
   "display_name": "venv",
   "language": "python",
   "name": "venv"
  },
  "language_info": {
   "codemirror_mode": {
    "name": "ipython",
    "version": 3
   },
   "file_extension": ".py",
   "mimetype": "text/x-python",
   "name": "python",
   "nbconvert_exporter": "python",
   "pygments_lexer": "ipython3",
   "version": "3.9.7"
  }
 },
 "nbformat": 4,
 "nbformat_minor": 5
}
